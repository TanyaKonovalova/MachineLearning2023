{
 "cells": [
  {
   "cell_type": "markdown",
   "metadata": {},
   "source": [
    "# Домашнее задание 2 - предобработка признаков, pandas\n",
    "\n",
    "\n",
    "### О задании\n",
    "\n",
    "Практическое задание 2 посвящено изучению основных библиотек для анализа данных, а также линейных моделей и методов их обучения. Вы научитесь:\n",
    " * применять библиотеки NumPy и Pandas для осуществления желаемых преобразований;\n",
    " * подготавливать данные для обучения линейных моделей;\n",
    " * обучать линейную, Lasso и Ridge-регрессии при помощи модуля scikit-learn;\n",
    " * реализовывать обычный и стохастический градиентные спуски;\n",
    " * обучать линейную регрессию для произвольного функционала качества.\n",
    " \n",
    "\n",
    "### Оценивание и штрафы\n",
    "\n",
    "Каждая из задач имеет определенную «стоимость» (указана в скобках около задачи). Максимально допустимая оценка за работу — 10 баллов. Кроме того, некоторые из заданий являются опциональными (необязательными), однако за их выполнение можно получить дополнительные баллы, которые позднее будут учитываться при проставлении оценок автоматом по курсу.\n",
    "\n",
    "Сдавать задание после указанного срока сдачи нельзя. При выставлении неполного балла за задание в связи с наличием ошибок на усмотрение проверяющего предусмотрена возможность исправить работу на указанных в ответном письме условиях.\n",
    "\n",
    "Задание выполняется самостоятельно. «Похожие» решения считаются плагиатом и все задействованные студенты (в том числе те, у кого списали) не могут получить за него больше 0 баллов. Если вы нашли решение какого-то из заданий (или его часть) в открытом источнике, необходимо указать ссылку на этот источник в отдельном блоке в конце Вашей работы (скорее всего вы будете не единственным, кто это нашел, поэтому чтобы исключить подозрение в плагиате, необходима ссылка на источник). \n",
    "\n",
    "Неэффективная реализация кода может негативно отразиться на оценке.\n",
    "\n",
    "\n",
    "### Формат сдачи\n",
    "Для сдачи задания получившийся файл \\*.ipynb с решением необходимо выложить в свой репозиторий github."
   ]
  },
  {
   "cell_type": "markdown",
   "metadata": {},
   "source": [
    "## Библиотеки для анализа данных\n",
    "\n",
    "### NumPy\n",
    "\n",
    "Во всех заданиях данного раздела запрещено использовать циклы  и list comprehensions. Под вектором и матрицей в данных заданиях понимается одномерный и двумерный numpy.array соответственно."
   ]
  },
  {
   "cell_type": "code",
   "execution_count": 3,
   "metadata": {},
   "outputs": [],
   "source": [
    "import numpy as np"
   ]
  },
  {
   "cell_type": "markdown",
   "metadata": {},
   "source": [
    "**1. (0.2 балла)** Реализуйте функцию, возвращающую максимальный элемент в векторе x среди элементов, перед которыми стоит нулевой. Для x = np.array([6, 2, 0, 3, 0, 0, 5, 7, 0]) ответом является 5. Если нулевых элементов нет, функция должна возвращать None.\n"
   ]
  },
  {
   "cell_type": "code",
   "execution_count": 4,
   "metadata": {},
   "outputs": [
    {
     "name": "stdout",
     "output_type": "stream",
     "text": [
      "None\n"
     ]
    }
   ],
   "source": [
    "def max_element(A):\n",
    "    # Your code here\n",
    "    if 0 not in A:\n",
    "        return None\n",
    "    \n",
    "    if A[-1] == 0: \n",
    "         A = A[:-1]\n",
    "            \n",
    "    if_true = np.array(np.where(A < 1)) + 1\n",
    "    return np.max(A[if_true])\n",
    "\n",
    "a = max_element(np.array([6, 2, 3, 5, 7]))\n",
    "print(a)"
   ]
  },
  {
   "cell_type": "markdown",
   "metadata": {},
   "source": [
    "**2. (0.2 балла)** Реализуйте функцию, принимающую на вход матрицу и некоторое число и возвращающую ближайший к числу элемент матрицы. Например: для X = np.arange(0,10).reshape((2, 5)) и v = 3.6 ответом будет 4."
   ]
  },
  {
   "cell_type": "code",
   "execution_count": 6,
   "metadata": {},
   "outputs": [
    {
     "data": {
      "text/plain": [
       "4"
      ]
     },
     "execution_count": 6,
     "metadata": {},
     "output_type": "execute_result"
    }
   ],
   "source": [
    "def nearest_value(X, v):\n",
    "    # Your code here\n",
    "    number = np.abs(X - v)\n",
    "    perfect_ind = np.argmin(number)\n",
    "    matrix_ind = np.argmin(number[:, perfect_ind])\n",
    "    return X[matrix_ind][perfect_ind]\n",
    "\n",
    "X = np.arange(10).reshape(2, 5)\n",
    "v = 3.6\n",
    "nearest_value(X, v)"
   ]
  },
  {
   "cell_type": "markdown",
   "metadata": {},
   "source": [
    "**3. (0.2 балла)** Реализуйте функцию scale(X), которая принимает на вход матрицу и масштабирует каждый ее столбец (вычитает выборочное среднее и делит на стандартное отклонение). Убедитесь, что в функции не будет происходить деления на ноль. Протестируйте на случайной матрице (для её генерации можно использовать, например, функцию [numpy.random.randint](http://docs.scipy.org/doc/numpy/reference/generated/numpy.random.randint.html))."
   ]
  },
  {
   "cell_type": "code",
   "execution_count": 7,
   "metadata": {
    "scrolled": false
   },
   "outputs": [
    {
     "name": "stdout",
     "output_type": "stream",
     "text": [
      "[[0 9 9 6 3]\n",
      " [0 9 6 5 7]\n",
      " [8 5 1 4 8]\n",
      " [1 5 4 9 5]\n",
      " [8 9 4 5 2]]\n"
     ]
    },
    {
     "data": {
      "text/plain": [
       "array([[-0.9009982 ,  0.81649658,  1.59200589,  0.11624764, -0.87705802],\n",
       "       [-0.9009982 ,  0.81649658,  0.45485883, -0.46499055,  0.87705802],\n",
       "       [ 1.21899756, -1.22474487, -1.44038628, -1.04622875,  1.31558703],\n",
       "       [-0.63599873, -1.22474487, -0.30323922,  1.85996222,  0.        ],\n",
       "       [ 1.21899756,  0.81649658, -0.30323922, -0.46499055, -1.31558703]])"
      ]
     },
     "execution_count": 7,
     "metadata": {},
     "output_type": "execute_result"
    }
   ],
   "source": [
    "def scale(X):\n",
    "    # Your code here\n",
    "    if 0 in np.std(X, axis = 0):\n",
    "        return \"ОШИБКА, делить на 0 нельзя!\"\n",
    "    X_mean = X - np.mean(X, axis = 0)\n",
    "    X_deviation = X_mean / np.std(X, axis = 0)\n",
    "    return X_deviation\n",
    "\n",
    "X = np.random.randint(0,10,(5,5))\n",
    "print(X)\n",
    "scale(X)"
   ]
  },
  {
   "cell_type": "markdown",
   "metadata": {},
   "source": [
    "**4. (0.2 балла)** Реализуйте функцию, которая для заданной матрицы находит:\n",
    " - определитель\n",
    " - след\n",
    " - наименьший и наибольший элементы\n",
    " - норму Фробениуса\n",
    " - собственные числа\n",
    " - обратную матрицу\n",
    "\n",
    "Для тестирования сгенерируйте матрицу с элементами из нормального распределения $\\mathcal{N}$(10,1)"
   ]
  },
  {
   "cell_type": "code",
   "execution_count": 8,
   "metadata": {
    "scrolled": true
   },
   "outputs": [
    {
     "name": "stdout",
     "output_type": "stream",
     "text": [
      "Матрица: \n",
      "[[11.19102645  9.0114992 ]\n",
      " [ 8.09263222  9.84204652]]\n",
      "Определитель = 37.2158542013399\n",
      "След: 21.033072977884515\n",
      "Наибольший элемент: 11.191026453944227\n",
      "Наименьший элемент: 8.092632222239043\n",
      "Норма Фробениуса: 19.20423825659266\n",
      "Собственные числа: [19.08284757  1.95022541]\n",
      "Обратная матрица:\n",
      "[[ 0.26445843 -0.2421414 ]\n",
      " [-0.2174512   0.30070589]]\n"
     ]
    }
   ],
   "source": [
    "def get_stats(X):\n",
    "    # Your code here\n",
    " \n",
    "    if X.shape[0] != X.shape[1]:\n",
    "        print('Определитель невозможно высчитать')\n",
    "        print('Собственные числа не определены')\n",
    "    else:\n",
    "        print('Определитель =', np.linalg.det(X))\n",
    "    print(\"След:\", np.trace(X))\n",
    "    print('Наибольший элемент:', np.max(X))\n",
    "    print(\"Наименьший элемент:\", np.min(X))\n",
    "    print(\"Норма Фробениуса:\", np.linalg.norm(X))\n",
    "    print(\"Собственные числа:\", np.linalg.eig(X)[0])\n",
    "    if (X.shape[0] != X.shape[1]) or (np.linalg.det(X) == 0):\n",
    "        print('Обратная матрица не определена')\n",
    "    else:\n",
    "        print(\"Обратная матрица:\")\n",
    "        print(np.linalg.inv(X))\n",
    "\n",
    "A = np.random.randn(2, 2) + 10\n",
    "print('Матрица: ')\n",
    "print(A)\n",
    "get_stats(A)"
   ]
  },
  {
   "cell_type": "markdown",
   "metadata": {},
   "source": [
    "**5. (0.2 балла)** Повторите 100 раз следующий эксперимент: сгенерируйте две матрицы размера 10×10 из стандартного нормального распределения, перемножьте их (как матрицы) и найдите максимальный элемент. Какое среднее значение по экспериментам у максимальных элементов? 95-процентная квантиль?"
   ]
  },
  {
   "cell_type": "code",
   "execution_count": 9,
   "metadata": {},
   "outputs": [
    {
     "name": "stdout",
     "output_type": "stream",
     "text": [
      "Матрица №1: \n",
      "[[-0.75250502 -0.187807    1.26955701  0.13849458  0.64549269 -0.95862222\n",
      "   0.53570108 -0.0657142  -0.12826455  0.01555899]\n",
      " [-0.9267471   3.01658955  0.10958647 -1.42186556  1.01423193  0.86824921\n",
      "  -0.38228941 -1.5010392   0.57019228  0.98804813]\n",
      " [-0.40335332 -0.54931812 -1.52464328  1.02239853 -0.03021457  1.42689981\n",
      "  -1.28657814 -1.33742575  1.61570644 -0.86559546]\n",
      " [-1.11366692 -0.80525434 -0.72694445  0.24929134 -0.07569468 -0.59561245\n",
      "   0.64252173 -1.85598271  1.133645   -0.53920862]\n",
      " [ 0.11720625  0.80277384  1.01889865  0.25778749 -0.01312555 -0.96270623\n",
      "  -0.06673231  0.03914063  0.28655987  1.08356785]\n",
      " [ 1.51583769 -0.69233659 -0.60481751  0.13077739  0.43405747 -0.35212277\n",
      "   0.2894608   0.18644571 -0.19326755 -0.05708085]\n",
      " [ 0.03190971  0.74797425  1.54055075  0.03262423  0.13531915 -1.12714325\n",
      "   2.04295292 -0.92223877 -0.25247395 -0.61532997]\n",
      " [-1.45704137  1.64806158  0.15129753  0.40890024  1.69899622  0.39900712\n",
      "   0.43838656  2.23897097 -0.65135295 -1.50517636]\n",
      " [ 1.08281578 -0.06619916 -0.17922209 -1.14000415 -1.44750502  0.67093179\n",
      "  -0.70375778  0.54360233 -1.12013056  0.00823345]\n",
      " [ 1.68420717 -0.72180868  1.2153047   0.91336064 -1.31282084 -0.12860768\n",
      "   0.25809204  0.64251475  0.40939839 -0.08062041]]\n",
      "\n",
      "Матрица №2: \n",
      "[[-0.0899506   0.61164433  0.77874805 -0.423681   -0.56557166  1.32342767\n",
      "  -0.30005941 -1.03410776  0.01210097  0.07873995]\n",
      " [-0.68936786  0.98746923 -1.84047334 -0.59159328  1.64333419  0.63521208\n",
      "   0.26367664  0.46027944  0.24610836  0.14994745]\n",
      " [-0.25266959  1.34042921  1.04513535  1.31848132  2.0651741   0.36960241\n",
      "   0.596663   -1.75348695  0.15780975 -0.41392979]\n",
      " [-0.27027474 -1.43335505 -1.45330092 -1.05441377 -1.5724868  -0.37740516\n",
      "   0.58085066 -0.01225475 -1.03776145  0.10590835]\n",
      " [ 0.93414037  0.47801417 -1.42576346  1.52452964  1.61215438  0.05828593\n",
      "  -0.24394519 -0.50157381  0.54409173  0.38980626]\n",
      " [ 0.11395687 -1.22963559 -0.83645543  0.03641629  1.51978021 -0.53058551\n",
      "   1.02637624 -0.79120822  2.20866971  1.46390871]\n",
      " [-0.43450258 -0.69588819 -0.71091861  1.65176266  1.1962299  -0.0924816\n",
      "   1.0907153   0.41449191 -0.49509337  0.09512106]\n",
      " [ 1.24515637  2.01720048  0.61167267 -1.19327256  0.08377784  1.26426078\n",
      "  -0.23410742 -1.2391395  -0.55264455  1.09222004]\n",
      " [-0.84822047  1.3963512  -0.3768236   0.68639495  2.62360346  1.96158579\n",
      "   0.3475097   0.56907019  0.5247978  -0.01516547]\n",
      " [ 1.16235043 -1.12878691 -0.17771604  0.58020843 -1.02465181 -0.14189924\n",
      "   0.85193766 -0.18050359  0.53935174 -0.85416371]]\n",
      "Среднее значение: 8.479548778721226\n",
      "95-ая квантиль: 11.984782759785006\n"
     ]
    }
   ],
   "source": [
    "exp = list()\n",
    "for exp_num in range(100):\n",
    "    # Your code here\n",
    "\n",
    "    M1 = np.random.randn(10, 10)\n",
    "    M2 = np.random.randn(10, 10)\n",
    "    exp.append(np.max(M1.dot(M2)))\n",
    "    \n",
    "print('Матрица №1: ')\n",
    "print(M1)\n",
    "print()\n",
    "print('Матрица №2: ')\n",
    "print(M2)\n",
    "\n",
    "print(\"Среднее значение:\", np.mean(exp))\n",
    "print(\"95-ая квантиль:\", np.quantile(exp, 0.95))"
   ]
  },
  {
   "cell_type": "markdown",
   "metadata": {},
   "source": [
    "### Pandas\n",
    "\n",
    "![](https://metrouk2.files.wordpress.com/2015/10/panda.jpg)\n",
    "\n",
    "#### Ответьте на вопросы о данных по авиарейсам в США за январь-апрель 2008 года.\n",
    "\n",
    "Данные находятся в приложенном файле `2008.csv`. Их [описание](http://stat-computing.org/dataexpo/2009/the-data.html) приведено ниже:"
   ]
  },
  {
   "cell_type": "markdown",
   "metadata": {},
   "source": [
    "Airline on-time performance\n",
    "\n",
    "Have you ever been stuck in an airport because your flight was delayed or cancelled and wondered if you could have predicted it if you'd had more data? This is your chance to find out.\n",
    "\n",
    "The data\n",
    "The data set is available for download here.\n",
    "The data consists of flight arrival and departure details for all commercial flights within the USA, from October 1987 to April 2008. This is a large dataset: there are nearly 120 million records in total, and takes up 1.6 gigabytes of space compressed and 12 gigabytes when uncompressed.\n",
    "\n",
    "Understanding and preparing the data\n",
    "In order to answer above questions, we are going to analyze the provided dataset, containing up to 1936758 ### different internal flights in the US for 2008 and their causes for delay, diversion and cancellation\n",
    "\n",
    "The data comes from the U.S. Department of Transportation’s (DOT) Bureau of Transportation Statistics (BTS). Meta data explanations\n",
    "\n",
    "This dataset is composed by the following variables:\n",
    "\n",
    "**Year** 2008 **Month** 1-12 **DayofMonth** 1-31 **DayOfWeek** 1 (Monday) - 7 (Sunday)  \n",
    "**DepTime** actual departure time (local, hhmm)  \n",
    "**CRSDepTime** scheduled departure time (local, hhmm)  \n",
    "**ArrTime** actual arrival time (local, hhmm)  \n",
    "**CRSArrTime** scheduled arrival time (local, hhmm)  \n",
    "**UniqueCarrier** unique carrier code  \n",
    "**FlightNum** flight number  \n",
    "**TailNum** plane tail number: aircraft registration, unique aircraft identifier  \n",
    "**ActualElapsedTime** in minutes  \n",
    "**CRSElapsedTime** in minutes  \n",
    "**AirTime** in minutes  \n",
    "**ArrDelay** arrival delay, in minutes: A flight is counted as “on time” if it operated less than 15 minutes later the scheduled time shown in the carriers’ Computerized Reservations Systems (CRS).  \n",
    "**DepDelay** departure delay, in minutes  \n",
    "**Origin** origin IATA airport code  \n",
    "**Dest** destination IATA airport code  \n",
    "**Distance** in miles  \n",
    "**TaxiIn** taxi in time, in minutes  \n",
    "**TaxiOut** taxi out time in minutes  \n",
    "**Cancelled** *was the flight cancelled  \n",
    "**CancellationCode** reason for cancellation (A = carrier, B = weather, C = NAS, D = security)  \n",
    "**Diverted** 1 = yes, 0 = no  \n",
    "**CarrierDelay** in minutes: Carrier delay is within the control of the air carrier. Examples of occurrences that may determine carrier delay are: aircraft cleaning, aircraft damage, awaiting the arrival of connecting passengers or crew, baggage, bird strike, cargo loading, catering, computer, outage-carrier equipment, crew legality (pilot or attendant rest), damage by hazardous goods, engineering inspection, fueling, handling disabled passengers, late crew, lavatory servicing, maintenance, oversales, potable water servicing, removal of unruly passenger, slow boarding or seating, stowing carry-on baggage, weight and balance delays.  \n",
    "**WeatherDelay** in minutes: Weather delay is caused by extreme or hazardous weather conditions that are forecasted or manifest themselves on point of departure, enroute, or on point of arrival.  \n",
    "**NASDelay** in minutes: Delay that is within the control of the National Airspace System (NAS) may include: non-extreme weather conditions, airport operations, heavy traffic volume, air traffic control, etc.  \n",
    "**SecurityDelay** in minutes: Security delay is caused by evacuation of a terminal or concourse, re-boarding of aircraft because of security breach, inoperative screening equipment and/or long lines in excess of 29 minutes at screening areas.  \n",
    "**LateAircraftDelay** in minutes: Arrival delay at an airport due to the late arrival of the same aircraft at a previous airport. The ripple effect of an earlier delay at downstream airports is referred to as delay propagation."
   ]
  },
  {
   "cell_type": "code",
   "execution_count": 10,
   "metadata": {},
   "outputs": [],
   "source": [
    "import pandas as pd\n",
    "import matplotlib.pyplot as plt"
   ]
  },
  {
   "cell_type": "code",
   "execution_count": 11,
   "metadata": {},
   "outputs": [
    {
     "data": {
      "text/html": [
       "<div>\n",
       "<style scoped>\n",
       "    .dataframe tbody tr th:only-of-type {\n",
       "        vertical-align: middle;\n",
       "    }\n",
       "\n",
       "    .dataframe tbody tr th {\n",
       "        vertical-align: top;\n",
       "    }\n",
       "\n",
       "    .dataframe thead th {\n",
       "        text-align: right;\n",
       "    }\n",
       "</style>\n",
       "<table border=\"1\" class=\"dataframe\">\n",
       "  <thead>\n",
       "    <tr style=\"text-align: right;\">\n",
       "      <th></th>\n",
       "      <th>Year</th>\n",
       "      <th>Month</th>\n",
       "      <th>DayofMonth</th>\n",
       "      <th>DayOfWeek</th>\n",
       "      <th>DepTime</th>\n",
       "      <th>CRSDepTime</th>\n",
       "      <th>ArrTime</th>\n",
       "      <th>CRSArrTime</th>\n",
       "      <th>UniqueCarrier</th>\n",
       "      <th>FlightNum</th>\n",
       "      <th>...</th>\n",
       "      <th>TaxiIn</th>\n",
       "      <th>TaxiOut</th>\n",
       "      <th>Cancelled</th>\n",
       "      <th>CancellationCode</th>\n",
       "      <th>Diverted</th>\n",
       "      <th>CarrierDelay</th>\n",
       "      <th>WeatherDelay</th>\n",
       "      <th>NASDelay</th>\n",
       "      <th>SecurityDelay</th>\n",
       "      <th>LateAircraftDelay</th>\n",
       "    </tr>\n",
       "  </thead>\n",
       "  <tbody>\n",
       "    <tr>\n",
       "      <th>0</th>\n",
       "      <td>2008</td>\n",
       "      <td>6</td>\n",
       "      <td>18</td>\n",
       "      <td>3</td>\n",
       "      <td>2111.0</td>\n",
       "      <td>2055</td>\n",
       "      <td>2308.0</td>\n",
       "      <td>2300</td>\n",
       "      <td>WN</td>\n",
       "      <td>242</td>\n",
       "      <td>...</td>\n",
       "      <td>3.0</td>\n",
       "      <td>8.0</td>\n",
       "      <td>0</td>\n",
       "      <td>NaN</td>\n",
       "      <td>0</td>\n",
       "      <td>NaN</td>\n",
       "      <td>NaN</td>\n",
       "      <td>NaN</td>\n",
       "      <td>NaN</td>\n",
       "      <td>NaN</td>\n",
       "    </tr>\n",
       "    <tr>\n",
       "      <th>1</th>\n",
       "      <td>2008</td>\n",
       "      <td>6</td>\n",
       "      <td>4</td>\n",
       "      <td>3</td>\n",
       "      <td>1426.0</td>\n",
       "      <td>1410</td>\n",
       "      <td>1730.0</td>\n",
       "      <td>1728</td>\n",
       "      <td>XE</td>\n",
       "      <td>2380</td>\n",
       "      <td>...</td>\n",
       "      <td>4.0</td>\n",
       "      <td>12.0</td>\n",
       "      <td>0</td>\n",
       "      <td>NaN</td>\n",
       "      <td>0</td>\n",
       "      <td>NaN</td>\n",
       "      <td>NaN</td>\n",
       "      <td>NaN</td>\n",
       "      <td>NaN</td>\n",
       "      <td>NaN</td>\n",
       "    </tr>\n",
       "    <tr>\n",
       "      <th>2</th>\n",
       "      <td>2008</td>\n",
       "      <td>8</td>\n",
       "      <td>3</td>\n",
       "      <td>7</td>\n",
       "      <td>1143.0</td>\n",
       "      <td>1145</td>\n",
       "      <td>1501.0</td>\n",
       "      <td>1520</td>\n",
       "      <td>WN</td>\n",
       "      <td>1769</td>\n",
       "      <td>...</td>\n",
       "      <td>4.0</td>\n",
       "      <td>9.0</td>\n",
       "      <td>0</td>\n",
       "      <td>NaN</td>\n",
       "      <td>0</td>\n",
       "      <td>NaN</td>\n",
       "      <td>NaN</td>\n",
       "      <td>NaN</td>\n",
       "      <td>NaN</td>\n",
       "      <td>NaN</td>\n",
       "    </tr>\n",
       "    <tr>\n",
       "      <th>3</th>\n",
       "      <td>2008</td>\n",
       "      <td>1</td>\n",
       "      <td>23</td>\n",
       "      <td>3</td>\n",
       "      <td>1141.0</td>\n",
       "      <td>1144</td>\n",
       "      <td>1323.0</td>\n",
       "      <td>1335</td>\n",
       "      <td>OO</td>\n",
       "      <td>3802</td>\n",
       "      <td>...</td>\n",
       "      <td>4.0</td>\n",
       "      <td>19.0</td>\n",
       "      <td>0</td>\n",
       "      <td>NaN</td>\n",
       "      <td>0</td>\n",
       "      <td>NaN</td>\n",
       "      <td>NaN</td>\n",
       "      <td>NaN</td>\n",
       "      <td>NaN</td>\n",
       "      <td>NaN</td>\n",
       "    </tr>\n",
       "    <tr>\n",
       "      <th>4</th>\n",
       "      <td>2008</td>\n",
       "      <td>5</td>\n",
       "      <td>4</td>\n",
       "      <td>7</td>\n",
       "      <td>815.0</td>\n",
       "      <td>820</td>\n",
       "      <td>1243.0</td>\n",
       "      <td>1300</td>\n",
       "      <td>WN</td>\n",
       "      <td>399</td>\n",
       "      <td>...</td>\n",
       "      <td>4.0</td>\n",
       "      <td>8.0</td>\n",
       "      <td>0</td>\n",
       "      <td>NaN</td>\n",
       "      <td>0</td>\n",
       "      <td>NaN</td>\n",
       "      <td>NaN</td>\n",
       "      <td>NaN</td>\n",
       "      <td>NaN</td>\n",
       "      <td>NaN</td>\n",
       "    </tr>\n",
       "    <tr>\n",
       "      <th>...</th>\n",
       "      <td>...</td>\n",
       "      <td>...</td>\n",
       "      <td>...</td>\n",
       "      <td>...</td>\n",
       "      <td>...</td>\n",
       "      <td>...</td>\n",
       "      <td>...</td>\n",
       "      <td>...</td>\n",
       "      <td>...</td>\n",
       "      <td>...</td>\n",
       "      <td>...</td>\n",
       "      <td>...</td>\n",
       "      <td>...</td>\n",
       "      <td>...</td>\n",
       "      <td>...</td>\n",
       "      <td>...</td>\n",
       "      <td>...</td>\n",
       "      <td>...</td>\n",
       "      <td>...</td>\n",
       "      <td>...</td>\n",
       "      <td>...</td>\n",
       "    </tr>\n",
       "    <tr>\n",
       "      <th>69995</th>\n",
       "      <td>2008</td>\n",
       "      <td>5</td>\n",
       "      <td>12</td>\n",
       "      <td>1</td>\n",
       "      <td>1829.0</td>\n",
       "      <td>1840</td>\n",
       "      <td>2137.0</td>\n",
       "      <td>2149</td>\n",
       "      <td>DL</td>\n",
       "      <td>794</td>\n",
       "      <td>...</td>\n",
       "      <td>22.0</td>\n",
       "      <td>20.0</td>\n",
       "      <td>0</td>\n",
       "      <td>NaN</td>\n",
       "      <td>0</td>\n",
       "      <td>NaN</td>\n",
       "      <td>NaN</td>\n",
       "      <td>NaN</td>\n",
       "      <td>NaN</td>\n",
       "      <td>NaN</td>\n",
       "    </tr>\n",
       "    <tr>\n",
       "      <th>69996</th>\n",
       "      <td>2008</td>\n",
       "      <td>5</td>\n",
       "      <td>11</td>\n",
       "      <td>7</td>\n",
       "      <td>1149.0</td>\n",
       "      <td>1125</td>\n",
       "      <td>1336.0</td>\n",
       "      <td>1314</td>\n",
       "      <td>OO</td>\n",
       "      <td>6159</td>\n",
       "      <td>...</td>\n",
       "      <td>4.0</td>\n",
       "      <td>13.0</td>\n",
       "      <td>0</td>\n",
       "      <td>NaN</td>\n",
       "      <td>0</td>\n",
       "      <td>0.0</td>\n",
       "      <td>0.0</td>\n",
       "      <td>0.0</td>\n",
       "      <td>0.0</td>\n",
       "      <td>22.0</td>\n",
       "    </tr>\n",
       "    <tr>\n",
       "      <th>69997</th>\n",
       "      <td>2008</td>\n",
       "      <td>9</td>\n",
       "      <td>24</td>\n",
       "      <td>3</td>\n",
       "      <td>1012.0</td>\n",
       "      <td>1012</td>\n",
       "      <td>1132.0</td>\n",
       "      <td>1132</td>\n",
       "      <td>YV</td>\n",
       "      <td>7058</td>\n",
       "      <td>...</td>\n",
       "      <td>7.0</td>\n",
       "      <td>10.0</td>\n",
       "      <td>0</td>\n",
       "      <td>NaN</td>\n",
       "      <td>0</td>\n",
       "      <td>NaN</td>\n",
       "      <td>NaN</td>\n",
       "      <td>NaN</td>\n",
       "      <td>NaN</td>\n",
       "      <td>NaN</td>\n",
       "    </tr>\n",
       "    <tr>\n",
       "      <th>69998</th>\n",
       "      <td>2008</td>\n",
       "      <td>2</td>\n",
       "      <td>18</td>\n",
       "      <td>1</td>\n",
       "      <td>1906.0</td>\n",
       "      <td>1900</td>\n",
       "      <td>2200.0</td>\n",
       "      <td>2139</td>\n",
       "      <td>NW</td>\n",
       "      <td>641</td>\n",
       "      <td>...</td>\n",
       "      <td>20.0</td>\n",
       "      <td>22.0</td>\n",
       "      <td>0</td>\n",
       "      <td>NaN</td>\n",
       "      <td>0</td>\n",
       "      <td>0.0</td>\n",
       "      <td>0.0</td>\n",
       "      <td>15.0</td>\n",
       "      <td>0.0</td>\n",
       "      <td>6.0</td>\n",
       "    </tr>\n",
       "    <tr>\n",
       "      <th>69999</th>\n",
       "      <td>2008</td>\n",
       "      <td>12</td>\n",
       "      <td>6</td>\n",
       "      <td>6</td>\n",
       "      <td>859.0</td>\n",
       "      <td>900</td>\n",
       "      <td>959.0</td>\n",
       "      <td>1005</td>\n",
       "      <td>WN</td>\n",
       "      <td>510</td>\n",
       "      <td>...</td>\n",
       "      <td>2.0</td>\n",
       "      <td>12.0</td>\n",
       "      <td>0</td>\n",
       "      <td>NaN</td>\n",
       "      <td>0</td>\n",
       "      <td>NaN</td>\n",
       "      <td>NaN</td>\n",
       "      <td>NaN</td>\n",
       "      <td>NaN</td>\n",
       "      <td>NaN</td>\n",
       "    </tr>\n",
       "  </tbody>\n",
       "</table>\n",
       "<p>70000 rows × 29 columns</p>\n",
       "</div>"
      ],
      "text/plain": [
       "       Year  Month  DayofMonth  DayOfWeek  DepTime  CRSDepTime  ArrTime  \\\n",
       "0      2008      6          18          3   2111.0        2055   2308.0   \n",
       "1      2008      6           4          3   1426.0        1410   1730.0   \n",
       "2      2008      8           3          7   1143.0        1145   1501.0   \n",
       "3      2008      1          23          3   1141.0        1144   1323.0   \n",
       "4      2008      5           4          7    815.0         820   1243.0   \n",
       "...     ...    ...         ...        ...      ...         ...      ...   \n",
       "69995  2008      5          12          1   1829.0        1840   2137.0   \n",
       "69996  2008      5          11          7   1149.0        1125   1336.0   \n",
       "69997  2008      9          24          3   1012.0        1012   1132.0   \n",
       "69998  2008      2          18          1   1906.0        1900   2200.0   \n",
       "69999  2008     12           6          6    859.0         900    959.0   \n",
       "\n",
       "       CRSArrTime UniqueCarrier  FlightNum  ... TaxiIn  TaxiOut  Cancelled  \\\n",
       "0            2300            WN        242  ...    3.0      8.0          0   \n",
       "1            1728            XE       2380  ...    4.0     12.0          0   \n",
       "2            1520            WN       1769  ...    4.0      9.0          0   \n",
       "3            1335            OO       3802  ...    4.0     19.0          0   \n",
       "4            1300            WN        399  ...    4.0      8.0          0   \n",
       "...           ...           ...        ...  ...    ...      ...        ...   \n",
       "69995        2149            DL        794  ...   22.0     20.0          0   \n",
       "69996        1314            OO       6159  ...    4.0     13.0          0   \n",
       "69997        1132            YV       7058  ...    7.0     10.0          0   \n",
       "69998        2139            NW        641  ...   20.0     22.0          0   \n",
       "69999        1005            WN        510  ...    2.0     12.0          0   \n",
       "\n",
       "       CancellationCode  Diverted  CarrierDelay WeatherDelay NASDelay  \\\n",
       "0                   NaN         0           NaN          NaN      NaN   \n",
       "1                   NaN         0           NaN          NaN      NaN   \n",
       "2                   NaN         0           NaN          NaN      NaN   \n",
       "3                   NaN         0           NaN          NaN      NaN   \n",
       "4                   NaN         0           NaN          NaN      NaN   \n",
       "...                 ...       ...           ...          ...      ...   \n",
       "69995               NaN         0           NaN          NaN      NaN   \n",
       "69996               NaN         0           0.0          0.0      0.0   \n",
       "69997               NaN         0           NaN          NaN      NaN   \n",
       "69998               NaN         0           0.0          0.0     15.0   \n",
       "69999               NaN         0           NaN          NaN      NaN   \n",
       "\n",
       "       SecurityDelay  LateAircraftDelay  \n",
       "0                NaN                NaN  \n",
       "1                NaN                NaN  \n",
       "2                NaN                NaN  \n",
       "3                NaN                NaN  \n",
       "4                NaN                NaN  \n",
       "...              ...                ...  \n",
       "69995            NaN                NaN  \n",
       "69996            0.0               22.0  \n",
       "69997            NaN                NaN  \n",
       "69998            0.0                6.0  \n",
       "69999            NaN                NaN  \n",
       "\n",
       "[70000 rows x 29 columns]"
      ]
     },
     "execution_count": 11,
     "metadata": {},
     "output_type": "execute_result"
    }
   ],
   "source": [
    "data_air2008 = pd.read_csv('2008.csv')\n",
    "data_air2008"
   ]
  },
  {
   "cell_type": "markdown",
   "metadata": {},
   "source": [
    "**6. (0.3 балла)** Какая из причин отмены рейса (`CancellationCode`) была самой частой? (расшифровки кодов можно найти в описании данных)"
   ]
  },
  {
   "cell_type": "code",
   "execution_count": 12,
   "metadata": {},
   "outputs": [
    {
     "data": {
      "text/plain": [
       "CancellationCode\n",
       "A    563\n",
       "B    549\n",
       "C    299\n",
       "dtype: int64"
      ]
     },
     "execution_count": 12,
     "metadata": {},
     "output_type": "execute_result"
    }
   ],
   "source": [
    "# Your code here\n",
    "data_air2008.groupby('CancellationCode').size()"
   ]
  },
  {
   "cell_type": "markdown",
   "metadata": {},
   "source": [
    "ОТВЕТ: Самая частая причина отмены рейса (тип A) - перевозчик (отмена со стороны авиакомпании)."
   ]
  },
  {
   "cell_type": "markdown",
   "metadata": {},
   "source": [
    "**7. (0.3 балла)** Найдите среднее, минимальное и максимальное расстояние, пройденное самолетом."
   ]
  },
  {
   "cell_type": "code",
   "execution_count": 13,
   "metadata": {},
   "outputs": [
    {
     "name": "stdout",
     "output_type": "stream",
     "text": [
      "724.5082571428571\n"
     ]
    }
   ],
   "source": [
    "# Your code here\n",
    "A = data_air2008[\"Distance\"].mean()\n",
    "print(A)"
   ]
  },
  {
   "cell_type": "raw",
   "metadata": {},
   "source": [
    "ОТВЕТ: Среднее расстояние, пройденное самолётом = 724.5082571428571"
   ]
  },
  {
   "cell_type": "code",
   "execution_count": 14,
   "metadata": {},
   "outputs": [
    {
     "name": "stdout",
     "output_type": "stream",
     "text": [
      "31\n"
     ]
    }
   ],
   "source": [
    "B = data_air2008[\"Distance\"].min()\n",
    "print(B)"
   ]
  },
  {
   "cell_type": "markdown",
   "metadata": {},
   "source": [
    "ОТВЕТ: Минимальное расстояние, пройденное самолётом = 31"
   ]
  },
  {
   "cell_type": "code",
   "execution_count": 15,
   "metadata": {},
   "outputs": [
    {
     "name": "stdout",
     "output_type": "stream",
     "text": [
      "4962\n"
     ]
    }
   ],
   "source": [
    "C = data_air2008[\"Distance\"].max()\n",
    "print(C)"
   ]
  },
  {
   "cell_type": "markdown",
   "metadata": {},
   "source": [
    "ОТВЕТ: Максимальное расстояние, пройденное самолётом = 4962"
   ]
  },
  {
   "cell_type": "markdown",
   "metadata": {},
   "source": [
    "**8. (0.3 балла)** Не выглядит ли подозрительным минимальное пройденное расстояние? В какие дни и на каких рейсах оно было? Какое расстояние было пройдено этими же рейсами в другие дни?"
   ]
  },
  {
   "cell_type": "code",
   "execution_count": 16,
   "metadata": {},
   "outputs": [
    {
     "data": {
      "text/html": [
       "<div>\n",
       "<style scoped>\n",
       "    .dataframe tbody tr th:only-of-type {\n",
       "        vertical-align: middle;\n",
       "    }\n",
       "\n",
       "    .dataframe tbody tr th {\n",
       "        vertical-align: top;\n",
       "    }\n",
       "\n",
       "    .dataframe thead th {\n",
       "        text-align: right;\n",
       "    }\n",
       "</style>\n",
       "<table border=\"1\" class=\"dataframe\">\n",
       "  <thead>\n",
       "    <tr style=\"text-align: right;\">\n",
       "      <th></th>\n",
       "      <th>FlightNum</th>\n",
       "      <th>Distance</th>\n",
       "      <th>DayofMonth</th>\n",
       "      <th>Month</th>\n",
       "      <th>Year</th>\n",
       "    </tr>\n",
       "  </thead>\n",
       "  <tbody>\n",
       "    <tr>\n",
       "      <th>1116</th>\n",
       "      <td>65</td>\n",
       "      <td>31</td>\n",
       "      <td>30</td>\n",
       "      <td>12</td>\n",
       "      <td>2008</td>\n",
       "    </tr>\n",
       "    <tr>\n",
       "      <th>6958</th>\n",
       "      <td>65</td>\n",
       "      <td>31</td>\n",
       "      <td>26</td>\n",
       "      <td>12</td>\n",
       "      <td>2008</td>\n",
       "    </tr>\n",
       "    <tr>\n",
       "      <th>17349</th>\n",
       "      <td>64</td>\n",
       "      <td>31</td>\n",
       "      <td>18</td>\n",
       "      <td>8</td>\n",
       "      <td>2008</td>\n",
       "    </tr>\n",
       "    <tr>\n",
       "      <th>27534</th>\n",
       "      <td>64</td>\n",
       "      <td>31</td>\n",
       "      <td>11</td>\n",
       "      <td>3</td>\n",
       "      <td>2008</td>\n",
       "    </tr>\n",
       "    <tr>\n",
       "      <th>46082</th>\n",
       "      <td>65</td>\n",
       "      <td>31</td>\n",
       "      <td>9</td>\n",
       "      <td>8</td>\n",
       "      <td>2008</td>\n",
       "    </tr>\n",
       "    <tr>\n",
       "      <th>48112</th>\n",
       "      <td>64</td>\n",
       "      <td>31</td>\n",
       "      <td>28</td>\n",
       "      <td>2</td>\n",
       "      <td>2008</td>\n",
       "    </tr>\n",
       "  </tbody>\n",
       "</table>\n",
       "</div>"
      ],
      "text/plain": [
       "       FlightNum  Distance  DayofMonth  Month  Year\n",
       "1116          65        31          30     12  2008\n",
       "6958          65        31          26     12  2008\n",
       "17349         64        31          18      8  2008\n",
       "27534         64        31          11      3  2008\n",
       "46082         65        31           9      8  2008\n",
       "48112         64        31          28      2  2008"
      ]
     },
     "execution_count": 16,
     "metadata": {},
     "output_type": "execute_result"
    }
   ],
   "source": [
    "# Your code here\n",
    "data_air2008[data_air2008[\"Distance\"] == 31][[\"FlightNum\", \"Distance\", \"DayofMonth\", \"Month\", \"Year\"]]"
   ]
  },
  {
   "cell_type": "markdown",
   "metadata": {},
   "source": [
    "ОТВЕТ: Минимальное расстояние было на рейсах 65 (30.12.2008, 26.12.2008, 9.8.2008) и 64 (18.8.2008, 11.3.2008, 28.2.2008).\n"
   ]
  },
  {
   "cell_type": "markdown",
   "metadata": {},
   "source": [
    "Рассмотрим, какие расстояния были пройдены рейсами 64 и 65 в другие дни"
   ]
  },
  {
   "cell_type": "code",
   "execution_count": 17,
   "metadata": {},
   "outputs": [
    {
     "data": {
      "text/html": [
       "<div>\n",
       "<style scoped>\n",
       "    .dataframe tbody tr th:only-of-type {\n",
       "        vertical-align: middle;\n",
       "    }\n",
       "\n",
       "    .dataframe tbody tr th {\n",
       "        vertical-align: top;\n",
       "    }\n",
       "\n",
       "    .dataframe thead th {\n",
       "        text-align: right;\n",
       "    }\n",
       "</style>\n",
       "<table border=\"1\" class=\"dataframe\">\n",
       "  <thead>\n",
       "    <tr style=\"text-align: right;\">\n",
       "      <th></th>\n",
       "      <th>FlightNum</th>\n",
       "      <th>Distance</th>\n",
       "      <th>DayofMonth</th>\n",
       "      <th>Month</th>\n",
       "      <th>Year</th>\n",
       "    </tr>\n",
       "  </thead>\n",
       "  <tbody>\n",
       "    <tr>\n",
       "      <th>501</th>\n",
       "      <td>64</td>\n",
       "      <td>533</td>\n",
       "      <td>20</td>\n",
       "      <td>3</td>\n",
       "      <td>2008</td>\n",
       "    </tr>\n",
       "    <tr>\n",
       "      <th>1389</th>\n",
       "      <td>64</td>\n",
       "      <td>680</td>\n",
       "      <td>13</td>\n",
       "      <td>3</td>\n",
       "      <td>2008</td>\n",
       "    </tr>\n",
       "    <tr>\n",
       "      <th>1517</th>\n",
       "      <td>65</td>\n",
       "      <td>680</td>\n",
       "      <td>10</td>\n",
       "      <td>7</td>\n",
       "      <td>2008</td>\n",
       "    </tr>\n",
       "    <tr>\n",
       "      <th>2619</th>\n",
       "      <td>64</td>\n",
       "      <td>2381</td>\n",
       "      <td>23</td>\n",
       "      <td>5</td>\n",
       "      <td>2008</td>\n",
       "    </tr>\n",
       "    <tr>\n",
       "      <th>3869</th>\n",
       "      <td>64</td>\n",
       "      <td>82</td>\n",
       "      <td>1</td>\n",
       "      <td>7</td>\n",
       "      <td>2008</td>\n",
       "    </tr>\n",
       "    <tr>\n",
       "      <th>...</th>\n",
       "      <td>...</td>\n",
       "      <td>...</td>\n",
       "      <td>...</td>\n",
       "      <td>...</td>\n",
       "      <td>...</td>\n",
       "    </tr>\n",
       "    <tr>\n",
       "      <th>66529</th>\n",
       "      <td>65</td>\n",
       "      <td>82</td>\n",
       "      <td>21</td>\n",
       "      <td>12</td>\n",
       "      <td>2008</td>\n",
       "    </tr>\n",
       "    <tr>\n",
       "      <th>67172</th>\n",
       "      <td>64</td>\n",
       "      <td>533</td>\n",
       "      <td>22</td>\n",
       "      <td>3</td>\n",
       "      <td>2008</td>\n",
       "    </tr>\n",
       "    <tr>\n",
       "      <th>68264</th>\n",
       "      <td>65</td>\n",
       "      <td>386</td>\n",
       "      <td>7</td>\n",
       "      <td>9</td>\n",
       "      <td>2008</td>\n",
       "    </tr>\n",
       "    <tr>\n",
       "      <th>68338</th>\n",
       "      <td>65</td>\n",
       "      <td>2454</td>\n",
       "      <td>3</td>\n",
       "      <td>8</td>\n",
       "      <td>2008</td>\n",
       "    </tr>\n",
       "    <tr>\n",
       "      <th>69305</th>\n",
       "      <td>65</td>\n",
       "      <td>1005</td>\n",
       "      <td>5</td>\n",
       "      <td>1</td>\n",
       "      <td>2008</td>\n",
       "    </tr>\n",
       "  </tbody>\n",
       "</table>\n",
       "<p>72 rows × 5 columns</p>\n",
       "</div>"
      ],
      "text/plain": [
       "       FlightNum  Distance  DayofMonth  Month  Year\n",
       "501           64       533          20      3  2008\n",
       "1389          64       680          13      3  2008\n",
       "1517          65       680          10      7  2008\n",
       "2619          64      2381          23      5  2008\n",
       "3869          64        82           1      7  2008\n",
       "...          ...       ...         ...    ...   ...\n",
       "66529         65        82          21     12  2008\n",
       "67172         64       533          22      3  2008\n",
       "68264         65       386           7      9  2008\n",
       "68338         65      2454           3      8  2008\n",
       "69305         65      1005           5      1  2008\n",
       "\n",
       "[72 rows x 5 columns]"
      ]
     },
     "execution_count": 17,
     "metadata": {},
     "output_type": "execute_result"
    }
   ],
   "source": [
    "temp_data = data_air2008.drop([1116, 6958, 17349, 27534, 46082, 48112], axis = 0)\n",
    "temp_data[(temp_data[\"FlightNum\"] == 65)\n",
    "          | (temp_data[\"FlightNum\"] == 64)][[\"FlightNum\", \"Distance\", \"DayofMonth\", \"Month\", \"Year\"]]"
   ]
  },
  {
   "cell_type": "markdown",
   "metadata": {},
   "source": [
    "**9. (0.3 балла)** Из какого аэропорта было произведено больше всего вылетов? В каком городе он находится?"
   ]
  },
  {
   "cell_type": "code",
   "execution_count": 18,
   "metadata": {},
   "outputs": [
    {
     "data": {
      "text/html": [
       "<div>\n",
       "<style scoped>\n",
       "    .dataframe tbody tr th:only-of-type {\n",
       "        vertical-align: middle;\n",
       "    }\n",
       "\n",
       "    .dataframe tbody tr th {\n",
       "        vertical-align: top;\n",
       "    }\n",
       "\n",
       "    .dataframe thead th {\n",
       "        text-align: right;\n",
       "    }\n",
       "</style>\n",
       "<table border=\"1\" class=\"dataframe\">\n",
       "  <thead>\n",
       "    <tr style=\"text-align: right;\">\n",
       "      <th></th>\n",
       "      <th>Origin</th>\n",
       "      <th>size</th>\n",
       "    </tr>\n",
       "  </thead>\n",
       "  <tbody>\n",
       "    <tr>\n",
       "      <th>18</th>\n",
       "      <td>ATL</td>\n",
       "      <td>4134</td>\n",
       "    </tr>\n",
       "  </tbody>\n",
       "</table>\n",
       "</div>"
      ],
      "text/plain": [
       "   Origin  size\n",
       "18    ATL  4134"
      ]
     },
     "execution_count": 18,
     "metadata": {},
     "output_type": "execute_result"
    }
   ],
   "source": [
    "# Your code here\n",
    "data_air2008.groupby(\"Origin\").size().reset_index(name = 'size').sort_values(by = \"size\", ascending = False).head(1)"
   ]
  },
  {
   "cell_type": "markdown",
   "metadata": {},
   "source": [
    "ОТВЕТ: Больше всего было совершено вылетов из аэропорта ATL (код города - 4134)"
   ]
  },
  {
   "cell_type": "markdown",
   "metadata": {},
   "source": [
    "**10. (0.3 балла)** Найдите для каждого аэропорта среднее время полета (`AirTime`) по всем вылетевшим из него рейсам. Какой аэропорт имеет наибольшее значение этого показателя?"
   ]
  },
  {
   "cell_type": "code",
   "execution_count": 20,
   "metadata": {},
   "outputs": [
    {
     "data": {
      "text/html": [
       "<div>\n",
       "<style scoped>\n",
       "    .dataframe tbody tr th:only-of-type {\n",
       "        vertical-align: middle;\n",
       "    }\n",
       "\n",
       "    .dataframe tbody tr th {\n",
       "        vertical-align: top;\n",
       "    }\n",
       "\n",
       "    .dataframe thead th {\n",
       "        text-align: right;\n",
       "    }\n",
       "</style>\n",
       "<table border=\"1\" class=\"dataframe\">\n",
       "  <thead>\n",
       "    <tr style=\"text-align: right;\">\n",
       "      <th></th>\n",
       "      <th>Origin</th>\n",
       "      <th>meantime</th>\n",
       "    </tr>\n",
       "  </thead>\n",
       "  <tbody>\n",
       "    <tr>\n",
       "      <th>262</th>\n",
       "      <td>SJU</td>\n",
       "      <td>205.200000</td>\n",
       "    </tr>\n",
       "    <tr>\n",
       "      <th>38</th>\n",
       "      <td>BQN</td>\n",
       "      <td>193.954545</td>\n",
       "    </tr>\n",
       "    <tr>\n",
       "      <th>226</th>\n",
       "      <td>PSE</td>\n",
       "      <td>191.875000</td>\n",
       "    </tr>\n",
       "    <tr>\n",
       "      <th>272</th>\n",
       "      <td>STT</td>\n",
       "      <td>185.029412</td>\n",
       "    </tr>\n",
       "    <tr>\n",
       "      <th>16</th>\n",
       "      <td>ANC</td>\n",
       "      <td>165.415094</td>\n",
       "    </tr>\n",
       "  </tbody>\n",
       "</table>\n",
       "</div>"
      ],
      "text/plain": [
       "    Origin    meantime\n",
       "262    SJU  205.200000\n",
       "38     BQN  193.954545\n",
       "226    PSE  191.875000\n",
       "272    STT  185.029412\n",
       "16     ANC  165.415094"
      ]
     },
     "execution_count": 20,
     "metadata": {},
     "output_type": "execute_result"
    }
   ],
   "source": [
    "# Your code here\n",
    "data_air2008.groupby(\"Origin\")[\"AirTime\"].mean()\n",
    "data_air2008.groupby(\"Origin\")[\"AirTime\"].mean().reset_index(name = 'meantime').sort_values(by = \"meantime\", ascending = False).head()"
   ]
  },
  {
   "cell_type": "markdown",
   "metadata": {},
   "source": [
    "ОТВЕТ: Наибольшее среднее время полёта по вылетевшим рейсам у аэропорта SJU. \n",
    "Наибольший показатель = 205.200000"
   ]
  },
  {
   "cell_type": "markdown",
   "metadata": {},
   "source": [
    "**11. (0.5 балла)** Найдите аэропорт, у которого наибольшая доля задержанных (`DepDelay > 0`) рейсов. Исключите при этом из рассмотрения аэропорты, из которых было отправлено меньше 1000 рейсов (используйте функцию `filter` после `groupby`)."
   ]
  },
  {
   "cell_type": "code",
   "execution_count": 21,
   "metadata": {},
   "outputs": [],
   "source": [
    "# Your code here\n",
    "temp_data = data_air2008.groupby(\"Origin\").size().reset_index(name = 'size')"
   ]
  },
  {
   "cell_type": "code",
   "execution_count": 22,
   "metadata": {},
   "outputs": [],
   "source": [
    "#Делаем ограничение по показателю = 1000\n",
    "origin_names = list(temp_data[temp_data[\"size\"] >= 1000][\"Origin\"])\n",
    "shortened_data = data_air2008[(data_air2008[\"Origin\"].isin(origin_names))]"
   ]
  },
  {
   "cell_type": "code",
   "execution_count": 23,
   "metadata": {},
   "outputs": [
    {
     "data": {
      "text/html": [
       "<div>\n",
       "<style scoped>\n",
       "    .dataframe tbody tr th:only-of-type {\n",
       "        vertical-align: middle;\n",
       "    }\n",
       "\n",
       "    .dataframe tbody tr th {\n",
       "        vertical-align: top;\n",
       "    }\n",
       "\n",
       "    .dataframe thead th {\n",
       "        text-align: right;\n",
       "    }\n",
       "</style>\n",
       "<table border=\"1\" class=\"dataframe\">\n",
       "  <thead>\n",
       "    <tr style=\"text-align: right;\">\n",
       "      <th></th>\n",
       "      <th>Origin</th>\n",
       "      <th>size</th>\n",
       "      <th>ratio</th>\n",
       "    </tr>\n",
       "  </thead>\n",
       "  <tbody>\n",
       "    <tr>\n",
       "      <th>7</th>\n",
       "      <td>EWR</td>\n",
       "      <td>710</td>\n",
       "      <td>0.511159</td>\n",
       "    </tr>\n",
       "  </tbody>\n",
       "</table>\n",
       "</div>"
      ],
      "text/plain": [
       "  Origin  size     ratio\n",
       "7    EWR   710  0.511159"
      ]
     },
     "execution_count": 23,
     "metadata": {},
     "output_type": "execute_result"
    }
   ],
   "source": [
    "#Рассматриваем наибольшую долю задержанных рейсов\n",
    "overall_num = shortened_data.groupby(\"Origin\").size().reset_index(name = 'size')\n",
    "delay_num = shortened_data[shortened_data[\"DepDelay\"] > 0].groupby(\"Origin\").size().reset_index(name = 'size')\n",
    "delay_num[\"ratio\"] = delay_num[\"size\"] / overall_num[\"size\"]\n",
    "delay_num.sort_values(by = \"ratio\", ascending = False).head(1)"
   ]
  },
  {
   "cell_type": "markdown",
   "metadata": {},
   "source": [
    "ОТВЕТ: аэропорт EWR имеет наибольшую долю задержанных рейсов"
   ]
  },
  {
   "cell_type": "markdown",
   "metadata": {},
   "source": [
    "## Линейная регрессия\n",
    "\n",
    "В этой части мы разберемся с линейной регрессией, способами её обучения и измерением качества ее прогнозов. \n",
    "\n",
    "Будем рассматривать датасет из предыдущей части задания для предсказания времени задержки отправления рейса в минутах (DepDelay). Отметим, что под задержкой подразумевается не только опоздание рейса относительно планируемого времени вылета, но и отправление до планируемого времени.\n",
    "\n",
    "### Подготовка данных\n",
    "\n",
    "**12. (0.5 балла)** Считайте выборку из файла при помощи функции pd.read_csv и ответьте на следующие вопросы:\n",
    "   - Имеются ли в данных пропущенные значения?\n",
    "   - Сколько всего пропущенных элементов в таблице \"объект-признак\"?\n",
    "   - Сколько объектов имеют хотя бы один пропуск?\n",
    "   - Сколько признаков имеют хотя бы одно пропущенное значение?"
   ]
  },
  {
   "cell_type": "code",
   "execution_count": 24,
   "metadata": {},
   "outputs": [
    {
     "data": {
      "text/plain": [
       "355215"
      ]
     },
     "execution_count": 24,
     "metadata": {},
     "output_type": "execute_result"
    }
   ],
   "source": [
    "data_air2008.isnull().sum().sum()"
   ]
  },
  {
   "cell_type": "markdown",
   "metadata": {
    "scrolled": true
   },
   "source": [
    "ОТВЕТ: Имеются ли в таблице пропуски? ДА!\n",
    "Их количество - 355215"
   ]
  },
  {
   "cell_type": "code",
   "execution_count": 25,
   "metadata": {},
   "outputs": [
    {
     "data": {
      "text/plain": [
       "70000"
      ]
     },
     "execution_count": 25,
     "metadata": {},
     "output_type": "execute_result"
    }
   ],
   "source": [
    "temp_data = data_air2008.isnull().sum(axis = 1).reset_index(name = \"sum_nan\")\n",
    "temp_data[temp_data[\"sum_nan\"] != 0].shape[0]"
   ]
  },
  {
   "cell_type": "markdown",
   "metadata": {},
   "source": [
    "ОТВЕТ: Количество объектов, имеющих хотя бы один пропуск - 70000"
   ]
  },
  {
   "cell_type": "code",
   "execution_count": 26,
   "metadata": {},
   "outputs": [
    {
     "data": {
      "text/plain": [
       "16"
      ]
     },
     "execution_count": 26,
     "metadata": {},
     "output_type": "execute_result"
    }
   ],
   "source": [
    "temp_data = data_air2008.isnull().sum(axis = 0).reset_index(name = \"sum_nan\")\n",
    "temp_data[temp_data[\"sum_nan\"] != 0].shape[0]"
   ]
  },
  {
   "cell_type": "markdown",
   "metadata": {},
   "source": [
    "ОТВЕТ: Количество признаков, имеющих хотя бы одно пропущенное значение - 16"
   ]
  },
  {
   "cell_type": "markdown",
   "metadata": {},
   "source": [
    "Как вы понимаете, также не имеет смысла рассматривать при решении поставленной задачи объекты с пропущенным значением целевой переменной. В связи с этим ответьте на следующие вопросы и выполните соответствующие действия:\n",
    "- Имеются ли пропущенные значения в целевой переменной?\n",
    "- Проанализируйте объекты с пропущенными значениями целевой переменной. Чем вызвано это явление? Что их объединяет? Можно ли в связи с этим, на ваш взгляд, исключить какие-то признаки из рассмотрения? Обоснуйте свою точку зрения.\n",
    "\n",
    "Исключите из выборки объекты **с пропущенным значением целевой переменной и со значением целевой переменной, равным 0**, а также при необходимости исключите признаки в соответствии с вашим ответом на последний вопрос из списка и выделите целевую переменную в отдельный вектор, исключив её из матрицы \"объект-признак\"."
   ]
  },
  {
   "cell_type": "code",
   "execution_count": 27,
   "metadata": {},
   "outputs": [
    {
     "name": "stdout",
     "output_type": "stream",
     "text": [
      "Есть пропуски в целевой переменной\n"
     ]
    },
    {
     "data": {
      "text/plain": [
       "array([1], dtype=int64)"
      ]
     },
     "execution_count": 27,
     "metadata": {},
     "output_type": "execute_result"
    }
   ],
   "source": [
    "# Your code here\n",
    "if data_air2008[\"DepDelay\"].isnull().any():\n",
    "    print(\"Есть пропуски в целевой переменной\")\n",
    "else:\n",
    "    print(\"Нет пропусков в целевой переменной\")\n",
    "    \n",
    "temp = data_air2008[data_air2008[\"DepDelay\"].isnull() == True]\n",
    "pd.unique(temp[\"Cancelled\"])"
   ]
  },
  {
   "cell_type": "markdown",
   "metadata": {},
   "source": [
    "У таких объектов также пропуски в других признаках, таких как DepTime, ArrTime, TaxiIn, TaxiOut, а также все из них отменены (Cancelled = 1)"
   ]
  },
  {
   "cell_type": "code",
   "execution_count": 28,
   "metadata": {},
   "outputs": [
    {
     "data": {
      "text/html": [
       "<div>\n",
       "<style scoped>\n",
       "    .dataframe tbody tr th:only-of-type {\n",
       "        vertical-align: middle;\n",
       "    }\n",
       "\n",
       "    .dataframe tbody tr th {\n",
       "        vertical-align: top;\n",
       "    }\n",
       "\n",
       "    .dataframe thead th {\n",
       "        text-align: right;\n",
       "    }\n",
       "</style>\n",
       "<table border=\"1\" class=\"dataframe\">\n",
       "  <thead>\n",
       "    <tr style=\"text-align: right;\">\n",
       "      <th></th>\n",
       "      <th>Month</th>\n",
       "      <th>DayofMonth</th>\n",
       "      <th>DayOfWeek</th>\n",
       "      <th>DepTime</th>\n",
       "      <th>CRSDepTime</th>\n",
       "      <th>ArrTime</th>\n",
       "      <th>CRSArrTime</th>\n",
       "      <th>UniqueCarrier</th>\n",
       "      <th>FlightNum</th>\n",
       "      <th>ActualElapsedTime</th>\n",
       "      <th>CRSElapsedTime</th>\n",
       "      <th>AirTime</th>\n",
       "      <th>ArrDelay</th>\n",
       "      <th>Origin</th>\n",
       "      <th>Dest</th>\n",
       "      <th>Distance</th>\n",
       "      <th>TaxiIn</th>\n",
       "      <th>TaxiOut</th>\n",
       "      <th>Diverted</th>\n",
       "    </tr>\n",
       "  </thead>\n",
       "  <tbody>\n",
       "    <tr>\n",
       "      <th>0</th>\n",
       "      <td>6</td>\n",
       "      <td>18</td>\n",
       "      <td>3</td>\n",
       "      <td>2111.0</td>\n",
       "      <td>2055</td>\n",
       "      <td>2308.0</td>\n",
       "      <td>2300</td>\n",
       "      <td>WN</td>\n",
       "      <td>242</td>\n",
       "      <td>57.0</td>\n",
       "      <td>65.0</td>\n",
       "      <td>46.0</td>\n",
       "      <td>8.0</td>\n",
       "      <td>MDW</td>\n",
       "      <td>CLE</td>\n",
       "      <td>307</td>\n",
       "      <td>3.0</td>\n",
       "      <td>8.0</td>\n",
       "      <td>0</td>\n",
       "    </tr>\n",
       "    <tr>\n",
       "      <th>1</th>\n",
       "      <td>6</td>\n",
       "      <td>4</td>\n",
       "      <td>3</td>\n",
       "      <td>1426.0</td>\n",
       "      <td>1410</td>\n",
       "      <td>1730.0</td>\n",
       "      <td>1728</td>\n",
       "      <td>XE</td>\n",
       "      <td>2380</td>\n",
       "      <td>124.0</td>\n",
       "      <td>138.0</td>\n",
       "      <td>108.0</td>\n",
       "      <td>2.0</td>\n",
       "      <td>IAH</td>\n",
       "      <td>AVL</td>\n",
       "      <td>834</td>\n",
       "      <td>4.0</td>\n",
       "      <td>12.0</td>\n",
       "      <td>0</td>\n",
       "    </tr>\n",
       "    <tr>\n",
       "      <th>2</th>\n",
       "      <td>8</td>\n",
       "      <td>3</td>\n",
       "      <td>7</td>\n",
       "      <td>1143.0</td>\n",
       "      <td>1145</td>\n",
       "      <td>1501.0</td>\n",
       "      <td>1520</td>\n",
       "      <td>WN</td>\n",
       "      <td>1769</td>\n",
       "      <td>138.0</td>\n",
       "      <td>155.0</td>\n",
       "      <td>125.0</td>\n",
       "      <td>-19.0</td>\n",
       "      <td>MDW</td>\n",
       "      <td>TPA</td>\n",
       "      <td>997</td>\n",
       "      <td>4.0</td>\n",
       "      <td>9.0</td>\n",
       "      <td>0</td>\n",
       "    </tr>\n",
       "    <tr>\n",
       "      <th>3</th>\n",
       "      <td>1</td>\n",
       "      <td>23</td>\n",
       "      <td>3</td>\n",
       "      <td>1141.0</td>\n",
       "      <td>1144</td>\n",
       "      <td>1323.0</td>\n",
       "      <td>1335</td>\n",
       "      <td>OO</td>\n",
       "      <td>3802</td>\n",
       "      <td>102.0</td>\n",
       "      <td>111.0</td>\n",
       "      <td>79.0</td>\n",
       "      <td>-12.0</td>\n",
       "      <td>SLC</td>\n",
       "      <td>FCA</td>\n",
       "      <td>532</td>\n",
       "      <td>4.0</td>\n",
       "      <td>19.0</td>\n",
       "      <td>0</td>\n",
       "    </tr>\n",
       "    <tr>\n",
       "      <th>4</th>\n",
       "      <td>5</td>\n",
       "      <td>4</td>\n",
       "      <td>7</td>\n",
       "      <td>815.0</td>\n",
       "      <td>820</td>\n",
       "      <td>1243.0</td>\n",
       "      <td>1300</td>\n",
       "      <td>WN</td>\n",
       "      <td>399</td>\n",
       "      <td>148.0</td>\n",
       "      <td>160.0</td>\n",
       "      <td>136.0</td>\n",
       "      <td>-17.0</td>\n",
       "      <td>LAS</td>\n",
       "      <td>AUS</td>\n",
       "      <td>1090</td>\n",
       "      <td>4.0</td>\n",
       "      <td>8.0</td>\n",
       "      <td>0</td>\n",
       "    </tr>\n",
       "    <tr>\n",
       "      <th>...</th>\n",
       "      <td>...</td>\n",
       "      <td>...</td>\n",
       "      <td>...</td>\n",
       "      <td>...</td>\n",
       "      <td>...</td>\n",
       "      <td>...</td>\n",
       "      <td>...</td>\n",
       "      <td>...</td>\n",
       "      <td>...</td>\n",
       "      <td>...</td>\n",
       "      <td>...</td>\n",
       "      <td>...</td>\n",
       "      <td>...</td>\n",
       "      <td>...</td>\n",
       "      <td>...</td>\n",
       "      <td>...</td>\n",
       "      <td>...</td>\n",
       "      <td>...</td>\n",
       "      <td>...</td>\n",
       "    </tr>\n",
       "    <tr>\n",
       "      <th>69994</th>\n",
       "      <td>1</td>\n",
       "      <td>26</td>\n",
       "      <td>6</td>\n",
       "      <td>920.0</td>\n",
       "      <td>925</td>\n",
       "      <td>1110.0</td>\n",
       "      <td>1118</td>\n",
       "      <td>OH</td>\n",
       "      <td>5218</td>\n",
       "      <td>110.0</td>\n",
       "      <td>113.0</td>\n",
       "      <td>85.0</td>\n",
       "      <td>-8.0</td>\n",
       "      <td>CVG</td>\n",
       "      <td>BDL</td>\n",
       "      <td>661</td>\n",
       "      <td>12.0</td>\n",
       "      <td>13.0</td>\n",
       "      <td>0</td>\n",
       "    </tr>\n",
       "    <tr>\n",
       "      <th>69995</th>\n",
       "      <td>5</td>\n",
       "      <td>12</td>\n",
       "      <td>1</td>\n",
       "      <td>1829.0</td>\n",
       "      <td>1840</td>\n",
       "      <td>2137.0</td>\n",
       "      <td>2149</td>\n",
       "      <td>DL</td>\n",
       "      <td>794</td>\n",
       "      <td>128.0</td>\n",
       "      <td>129.0</td>\n",
       "      <td>86.0</td>\n",
       "      <td>-12.0</td>\n",
       "      <td>ORD</td>\n",
       "      <td>ATL</td>\n",
       "      <td>606</td>\n",
       "      <td>22.0</td>\n",
       "      <td>20.0</td>\n",
       "      <td>0</td>\n",
       "    </tr>\n",
       "    <tr>\n",
       "      <th>69996</th>\n",
       "      <td>5</td>\n",
       "      <td>11</td>\n",
       "      <td>7</td>\n",
       "      <td>1149.0</td>\n",
       "      <td>1125</td>\n",
       "      <td>1336.0</td>\n",
       "      <td>1314</td>\n",
       "      <td>OO</td>\n",
       "      <td>6159</td>\n",
       "      <td>47.0</td>\n",
       "      <td>49.0</td>\n",
       "      <td>30.0</td>\n",
       "      <td>22.0</td>\n",
       "      <td>ORD</td>\n",
       "      <td>GRR</td>\n",
       "      <td>137</td>\n",
       "      <td>4.0</td>\n",
       "      <td>13.0</td>\n",
       "      <td>0</td>\n",
       "    </tr>\n",
       "    <tr>\n",
       "      <th>69998</th>\n",
       "      <td>2</td>\n",
       "      <td>18</td>\n",
       "      <td>1</td>\n",
       "      <td>1906.0</td>\n",
       "      <td>1900</td>\n",
       "      <td>2200.0</td>\n",
       "      <td>2139</td>\n",
       "      <td>NW</td>\n",
       "      <td>641</td>\n",
       "      <td>234.0</td>\n",
       "      <td>219.0</td>\n",
       "      <td>192.0</td>\n",
       "      <td>21.0</td>\n",
       "      <td>RSW</td>\n",
       "      <td>MSP</td>\n",
       "      <td>1416</td>\n",
       "      <td>20.0</td>\n",
       "      <td>22.0</td>\n",
       "      <td>0</td>\n",
       "    </tr>\n",
       "    <tr>\n",
       "      <th>69999</th>\n",
       "      <td>12</td>\n",
       "      <td>6</td>\n",
       "      <td>6</td>\n",
       "      <td>859.0</td>\n",
       "      <td>900</td>\n",
       "      <td>959.0</td>\n",
       "      <td>1005</td>\n",
       "      <td>WN</td>\n",
       "      <td>510</td>\n",
       "      <td>60.0</td>\n",
       "      <td>65.0</td>\n",
       "      <td>46.0</td>\n",
       "      <td>-6.0</td>\n",
       "      <td>LAS</td>\n",
       "      <td>BUR</td>\n",
       "      <td>223</td>\n",
       "      <td>2.0</td>\n",
       "      <td>12.0</td>\n",
       "      <td>0</td>\n",
       "    </tr>\n",
       "  </tbody>\n",
       "</table>\n",
       "<p>63404 rows × 19 columns</p>\n",
       "</div>"
      ],
      "text/plain": [
       "       Month  DayofMonth  DayOfWeek  DepTime  CRSDepTime  ArrTime  CRSArrTime  \\\n",
       "0          6          18          3   2111.0        2055   2308.0        2300   \n",
       "1          6           4          3   1426.0        1410   1730.0        1728   \n",
       "2          8           3          7   1143.0        1145   1501.0        1520   \n",
       "3          1          23          3   1141.0        1144   1323.0        1335   \n",
       "4          5           4          7    815.0         820   1243.0        1300   \n",
       "...      ...         ...        ...      ...         ...      ...         ...   \n",
       "69994      1          26          6    920.0         925   1110.0        1118   \n",
       "69995      5          12          1   1829.0        1840   2137.0        2149   \n",
       "69996      5          11          7   1149.0        1125   1336.0        1314   \n",
       "69998      2          18          1   1906.0        1900   2200.0        2139   \n",
       "69999     12           6          6    859.0         900    959.0        1005   \n",
       "\n",
       "      UniqueCarrier  FlightNum  ActualElapsedTime  CRSElapsedTime  AirTime  \\\n",
       "0                WN        242               57.0            65.0     46.0   \n",
       "1                XE       2380              124.0           138.0    108.0   \n",
       "2                WN       1769              138.0           155.0    125.0   \n",
       "3                OO       3802              102.0           111.0     79.0   \n",
       "4                WN        399              148.0           160.0    136.0   \n",
       "...             ...        ...                ...             ...      ...   \n",
       "69994            OH       5218              110.0           113.0     85.0   \n",
       "69995            DL        794              128.0           129.0     86.0   \n",
       "69996            OO       6159               47.0            49.0     30.0   \n",
       "69998            NW        641              234.0           219.0    192.0   \n",
       "69999            WN        510               60.0            65.0     46.0   \n",
       "\n",
       "       ArrDelay Origin Dest  Distance  TaxiIn  TaxiOut  Diverted  \n",
       "0           8.0    MDW  CLE       307     3.0      8.0         0  \n",
       "1           2.0    IAH  AVL       834     4.0     12.0         0  \n",
       "2         -19.0    MDW  TPA       997     4.0      9.0         0  \n",
       "3         -12.0    SLC  FCA       532     4.0     19.0         0  \n",
       "4         -17.0    LAS  AUS      1090     4.0      8.0         0  \n",
       "...         ...    ...  ...       ...     ...      ...       ...  \n",
       "69994      -8.0    CVG  BDL       661    12.0     13.0         0  \n",
       "69995     -12.0    ORD  ATL       606    22.0     20.0         0  \n",
       "69996      22.0    ORD  GRR       137     4.0     13.0         0  \n",
       "69998      21.0    RSW  MSP      1416    20.0     22.0         0  \n",
       "69999      -6.0    LAS  BUR       223     2.0     12.0         0  \n",
       "\n",
       "[63404 rows x 19 columns]"
      ]
     },
     "execution_count": 28,
     "metadata": {},
     "output_type": "execute_result"
    }
   ],
   "source": [
    "index_list = list(data_air2008[(data_air2008[\"DepDelay\"].isnull() == True) | (data_air2008[\"DepDelay\"] == 0)].index)\n",
    "data_linreg = data_air2008.drop(index_list, axis = 0)\n",
    "data_linreg.drop([\"CarrierDelay\", \"WeatherDelay\", \"NASDelay\", \"SecurityDelay\", \"LateAircraftDelay\", \"Cancelled\", \n",
    "                \"CancellationCode\", \"Year\", \"TailNum\"], axis = 1, inplace = True)\n",
    "data_depdelay = data_linreg[\"DepDelay\"]\n",
    "data_linreg.drop(\"DepDelay\", axis = 1, inplace = True)\n",
    "data_linreg"
   ]
  },
  {
   "cell_type": "markdown",
   "metadata": {},
   "source": [
    "**13. (0.5 балла)** Обратите внимание, что признаки DepTime, CRSDepTime, ArrTime, CRSArrTime приведены в формате hhmm, в связи с чем будет не вполне корректно рассматривать их как вещественные.\n",
    "\n",
    "Преобразуйте каждый признак FeatureName из указанных в пару новых признаков FeatureName\\_Hour, FeatureName\\_Minute, разделив каждое из значений на часы и минуты. Не забудьте при этом исключить исходный признак из выборки. В случае, если значение признака отсутствует, значения двух новых признаков, его заменяющих, также должны отсутствовать. \n",
    "\n",
    "Например, признак DepTime необходимо заменить на пару признаков DepTime_Hour, DepTime_Minute. При этом, например, значение 155 исходного признака будет преобразовано в значения 1 и 55 признаков DepTime_Hour, DepTime_Minute соответственно."
   ]
  },
  {
   "cell_type": "code",
   "execution_count": 29,
   "metadata": {},
   "outputs": [
    {
     "data": {
      "text/html": [
       "<div>\n",
       "<style scoped>\n",
       "    .dataframe tbody tr th:only-of-type {\n",
       "        vertical-align: middle;\n",
       "    }\n",
       "\n",
       "    .dataframe tbody tr th {\n",
       "        vertical-align: top;\n",
       "    }\n",
       "\n",
       "    .dataframe thead th {\n",
       "        text-align: right;\n",
       "    }\n",
       "</style>\n",
       "<table border=\"1\" class=\"dataframe\">\n",
       "  <thead>\n",
       "    <tr style=\"text-align: right;\">\n",
       "      <th></th>\n",
       "      <th>Month</th>\n",
       "      <th>DayofMonth</th>\n",
       "      <th>DayOfWeek</th>\n",
       "      <th>UniqueCarrier</th>\n",
       "      <th>FlightNum</th>\n",
       "      <th>ActualElapsedTime</th>\n",
       "      <th>CRSElapsedTime</th>\n",
       "      <th>AirTime</th>\n",
       "      <th>ArrDelay</th>\n",
       "      <th>Origin</th>\n",
       "      <th>...</th>\n",
       "      <th>TaxiOut</th>\n",
       "      <th>Diverted</th>\n",
       "      <th>DepTime_Hour</th>\n",
       "      <th>DepTime_Minute</th>\n",
       "      <th>CRSDepTime_Hour</th>\n",
       "      <th>CRSDepTime_Minute</th>\n",
       "      <th>ArrTime_Hour</th>\n",
       "      <th>ArrTime_Minute</th>\n",
       "      <th>CRSArrTime_Hour</th>\n",
       "      <th>CRSArrTime_Minute</th>\n",
       "    </tr>\n",
       "  </thead>\n",
       "  <tbody>\n",
       "    <tr>\n",
       "      <th>0</th>\n",
       "      <td>6</td>\n",
       "      <td>18</td>\n",
       "      <td>3</td>\n",
       "      <td>WN</td>\n",
       "      <td>242</td>\n",
       "      <td>57.0</td>\n",
       "      <td>65.0</td>\n",
       "      <td>46.0</td>\n",
       "      <td>8.0</td>\n",
       "      <td>MDW</td>\n",
       "      <td>...</td>\n",
       "      <td>8.0</td>\n",
       "      <td>0</td>\n",
       "      <td>21.0</td>\n",
       "      <td>11.0</td>\n",
       "      <td>20.0</td>\n",
       "      <td>55.0</td>\n",
       "      <td>23.0</td>\n",
       "      <td>8.0</td>\n",
       "      <td>23.0</td>\n",
       "      <td>0.0</td>\n",
       "    </tr>\n",
       "    <tr>\n",
       "      <th>1</th>\n",
       "      <td>6</td>\n",
       "      <td>4</td>\n",
       "      <td>3</td>\n",
       "      <td>XE</td>\n",
       "      <td>2380</td>\n",
       "      <td>124.0</td>\n",
       "      <td>138.0</td>\n",
       "      <td>108.0</td>\n",
       "      <td>2.0</td>\n",
       "      <td>IAH</td>\n",
       "      <td>...</td>\n",
       "      <td>12.0</td>\n",
       "      <td>0</td>\n",
       "      <td>14.0</td>\n",
       "      <td>26.0</td>\n",
       "      <td>14.0</td>\n",
       "      <td>10.0</td>\n",
       "      <td>17.0</td>\n",
       "      <td>30.0</td>\n",
       "      <td>17.0</td>\n",
       "      <td>28.0</td>\n",
       "    </tr>\n",
       "    <tr>\n",
       "      <th>2</th>\n",
       "      <td>8</td>\n",
       "      <td>3</td>\n",
       "      <td>7</td>\n",
       "      <td>WN</td>\n",
       "      <td>1769</td>\n",
       "      <td>138.0</td>\n",
       "      <td>155.0</td>\n",
       "      <td>125.0</td>\n",
       "      <td>-19.0</td>\n",
       "      <td>MDW</td>\n",
       "      <td>...</td>\n",
       "      <td>9.0</td>\n",
       "      <td>0</td>\n",
       "      <td>11.0</td>\n",
       "      <td>43.0</td>\n",
       "      <td>11.0</td>\n",
       "      <td>45.0</td>\n",
       "      <td>15.0</td>\n",
       "      <td>1.0</td>\n",
       "      <td>15.0</td>\n",
       "      <td>20.0</td>\n",
       "    </tr>\n",
       "    <tr>\n",
       "      <th>3</th>\n",
       "      <td>1</td>\n",
       "      <td>23</td>\n",
       "      <td>3</td>\n",
       "      <td>OO</td>\n",
       "      <td>3802</td>\n",
       "      <td>102.0</td>\n",
       "      <td>111.0</td>\n",
       "      <td>79.0</td>\n",
       "      <td>-12.0</td>\n",
       "      <td>SLC</td>\n",
       "      <td>...</td>\n",
       "      <td>19.0</td>\n",
       "      <td>0</td>\n",
       "      <td>11.0</td>\n",
       "      <td>41.0</td>\n",
       "      <td>11.0</td>\n",
       "      <td>44.0</td>\n",
       "      <td>13.0</td>\n",
       "      <td>23.0</td>\n",
       "      <td>13.0</td>\n",
       "      <td>35.0</td>\n",
       "    </tr>\n",
       "    <tr>\n",
       "      <th>4</th>\n",
       "      <td>5</td>\n",
       "      <td>4</td>\n",
       "      <td>7</td>\n",
       "      <td>WN</td>\n",
       "      <td>399</td>\n",
       "      <td>148.0</td>\n",
       "      <td>160.0</td>\n",
       "      <td>136.0</td>\n",
       "      <td>-17.0</td>\n",
       "      <td>LAS</td>\n",
       "      <td>...</td>\n",
       "      <td>8.0</td>\n",
       "      <td>0</td>\n",
       "      <td>8.0</td>\n",
       "      <td>15.0</td>\n",
       "      <td>8.0</td>\n",
       "      <td>20.0</td>\n",
       "      <td>12.0</td>\n",
       "      <td>43.0</td>\n",
       "      <td>13.0</td>\n",
       "      <td>0.0</td>\n",
       "    </tr>\n",
       "    <tr>\n",
       "      <th>...</th>\n",
       "      <td>...</td>\n",
       "      <td>...</td>\n",
       "      <td>...</td>\n",
       "      <td>...</td>\n",
       "      <td>...</td>\n",
       "      <td>...</td>\n",
       "      <td>...</td>\n",
       "      <td>...</td>\n",
       "      <td>...</td>\n",
       "      <td>...</td>\n",
       "      <td>...</td>\n",
       "      <td>...</td>\n",
       "      <td>...</td>\n",
       "      <td>...</td>\n",
       "      <td>...</td>\n",
       "      <td>...</td>\n",
       "      <td>...</td>\n",
       "      <td>...</td>\n",
       "      <td>...</td>\n",
       "      <td>...</td>\n",
       "      <td>...</td>\n",
       "    </tr>\n",
       "    <tr>\n",
       "      <th>69994</th>\n",
       "      <td>1</td>\n",
       "      <td>26</td>\n",
       "      <td>6</td>\n",
       "      <td>OH</td>\n",
       "      <td>5218</td>\n",
       "      <td>110.0</td>\n",
       "      <td>113.0</td>\n",
       "      <td>85.0</td>\n",
       "      <td>-8.0</td>\n",
       "      <td>CVG</td>\n",
       "      <td>...</td>\n",
       "      <td>13.0</td>\n",
       "      <td>0</td>\n",
       "      <td>9.0</td>\n",
       "      <td>20.0</td>\n",
       "      <td>9.0</td>\n",
       "      <td>25.0</td>\n",
       "      <td>11.0</td>\n",
       "      <td>10.0</td>\n",
       "      <td>11.0</td>\n",
       "      <td>18.0</td>\n",
       "    </tr>\n",
       "    <tr>\n",
       "      <th>69995</th>\n",
       "      <td>5</td>\n",
       "      <td>12</td>\n",
       "      <td>1</td>\n",
       "      <td>DL</td>\n",
       "      <td>794</td>\n",
       "      <td>128.0</td>\n",
       "      <td>129.0</td>\n",
       "      <td>86.0</td>\n",
       "      <td>-12.0</td>\n",
       "      <td>ORD</td>\n",
       "      <td>...</td>\n",
       "      <td>20.0</td>\n",
       "      <td>0</td>\n",
       "      <td>18.0</td>\n",
       "      <td>29.0</td>\n",
       "      <td>18.0</td>\n",
       "      <td>40.0</td>\n",
       "      <td>21.0</td>\n",
       "      <td>37.0</td>\n",
       "      <td>21.0</td>\n",
       "      <td>49.0</td>\n",
       "    </tr>\n",
       "    <tr>\n",
       "      <th>69996</th>\n",
       "      <td>5</td>\n",
       "      <td>11</td>\n",
       "      <td>7</td>\n",
       "      <td>OO</td>\n",
       "      <td>6159</td>\n",
       "      <td>47.0</td>\n",
       "      <td>49.0</td>\n",
       "      <td>30.0</td>\n",
       "      <td>22.0</td>\n",
       "      <td>ORD</td>\n",
       "      <td>...</td>\n",
       "      <td>13.0</td>\n",
       "      <td>0</td>\n",
       "      <td>11.0</td>\n",
       "      <td>49.0</td>\n",
       "      <td>11.0</td>\n",
       "      <td>25.0</td>\n",
       "      <td>13.0</td>\n",
       "      <td>36.0</td>\n",
       "      <td>13.0</td>\n",
       "      <td>14.0</td>\n",
       "    </tr>\n",
       "    <tr>\n",
       "      <th>69998</th>\n",
       "      <td>2</td>\n",
       "      <td>18</td>\n",
       "      <td>1</td>\n",
       "      <td>NW</td>\n",
       "      <td>641</td>\n",
       "      <td>234.0</td>\n",
       "      <td>219.0</td>\n",
       "      <td>192.0</td>\n",
       "      <td>21.0</td>\n",
       "      <td>RSW</td>\n",
       "      <td>...</td>\n",
       "      <td>22.0</td>\n",
       "      <td>0</td>\n",
       "      <td>19.0</td>\n",
       "      <td>6.0</td>\n",
       "      <td>19.0</td>\n",
       "      <td>0.0</td>\n",
       "      <td>22.0</td>\n",
       "      <td>0.0</td>\n",
       "      <td>21.0</td>\n",
       "      <td>39.0</td>\n",
       "    </tr>\n",
       "    <tr>\n",
       "      <th>69999</th>\n",
       "      <td>12</td>\n",
       "      <td>6</td>\n",
       "      <td>6</td>\n",
       "      <td>WN</td>\n",
       "      <td>510</td>\n",
       "      <td>60.0</td>\n",
       "      <td>65.0</td>\n",
       "      <td>46.0</td>\n",
       "      <td>-6.0</td>\n",
       "      <td>LAS</td>\n",
       "      <td>...</td>\n",
       "      <td>12.0</td>\n",
       "      <td>0</td>\n",
       "      <td>8.0</td>\n",
       "      <td>59.0</td>\n",
       "      <td>9.0</td>\n",
       "      <td>0.0</td>\n",
       "      <td>9.0</td>\n",
       "      <td>59.0</td>\n",
       "      <td>10.0</td>\n",
       "      <td>5.0</td>\n",
       "    </tr>\n",
       "  </tbody>\n",
       "</table>\n",
       "<p>63404 rows × 23 columns</p>\n",
       "</div>"
      ],
      "text/plain": [
       "       Month  DayofMonth  DayOfWeek UniqueCarrier  FlightNum  \\\n",
       "0          6          18          3            WN        242   \n",
       "1          6           4          3            XE       2380   \n",
       "2          8           3          7            WN       1769   \n",
       "3          1          23          3            OO       3802   \n",
       "4          5           4          7            WN        399   \n",
       "...      ...         ...        ...           ...        ...   \n",
       "69994      1          26          6            OH       5218   \n",
       "69995      5          12          1            DL        794   \n",
       "69996      5          11          7            OO       6159   \n",
       "69998      2          18          1            NW        641   \n",
       "69999     12           6          6            WN        510   \n",
       "\n",
       "       ActualElapsedTime  CRSElapsedTime  AirTime  ArrDelay Origin  ...  \\\n",
       "0                   57.0            65.0     46.0       8.0    MDW  ...   \n",
       "1                  124.0           138.0    108.0       2.0    IAH  ...   \n",
       "2                  138.0           155.0    125.0     -19.0    MDW  ...   \n",
       "3                  102.0           111.0     79.0     -12.0    SLC  ...   \n",
       "4                  148.0           160.0    136.0     -17.0    LAS  ...   \n",
       "...                  ...             ...      ...       ...    ...  ...   \n",
       "69994              110.0           113.0     85.0      -8.0    CVG  ...   \n",
       "69995              128.0           129.0     86.0     -12.0    ORD  ...   \n",
       "69996               47.0            49.0     30.0      22.0    ORD  ...   \n",
       "69998              234.0           219.0    192.0      21.0    RSW  ...   \n",
       "69999               60.0            65.0     46.0      -6.0    LAS  ...   \n",
       "\n",
       "      TaxiOut  Diverted  DepTime_Hour  DepTime_Minute  CRSDepTime_Hour  \\\n",
       "0         8.0         0          21.0            11.0             20.0   \n",
       "1        12.0         0          14.0            26.0             14.0   \n",
       "2         9.0         0          11.0            43.0             11.0   \n",
       "3        19.0         0          11.0            41.0             11.0   \n",
       "4         8.0         0           8.0            15.0              8.0   \n",
       "...       ...       ...           ...             ...              ...   \n",
       "69994    13.0         0           9.0            20.0              9.0   \n",
       "69995    20.0         0          18.0            29.0             18.0   \n",
       "69996    13.0         0          11.0            49.0             11.0   \n",
       "69998    22.0         0          19.0             6.0             19.0   \n",
       "69999    12.0         0           8.0            59.0              9.0   \n",
       "\n",
       "       CRSDepTime_Minute  ArrTime_Hour  ArrTime_Minute  CRSArrTime_Hour  \\\n",
       "0                   55.0          23.0             8.0             23.0   \n",
       "1                   10.0          17.0            30.0             17.0   \n",
       "2                   45.0          15.0             1.0             15.0   \n",
       "3                   44.0          13.0            23.0             13.0   \n",
       "4                   20.0          12.0            43.0             13.0   \n",
       "...                  ...           ...             ...              ...   \n",
       "69994               25.0          11.0            10.0             11.0   \n",
       "69995               40.0          21.0            37.0             21.0   \n",
       "69996               25.0          13.0            36.0             13.0   \n",
       "69998                0.0          22.0             0.0             21.0   \n",
       "69999                0.0           9.0            59.0             10.0   \n",
       "\n",
       "       CRSArrTime_Minute  \n",
       "0                    0.0  \n",
       "1                   28.0  \n",
       "2                   20.0  \n",
       "3                   35.0  \n",
       "4                    0.0  \n",
       "...                  ...  \n",
       "69994               18.0  \n",
       "69995               49.0  \n",
       "69996               14.0  \n",
       "69998               39.0  \n",
       "69999                5.0  \n",
       "\n",
       "[63404 rows x 23 columns]"
      ]
     },
     "execution_count": 29,
     "metadata": {},
     "output_type": "execute_result"
    }
   ],
   "source": [
    "# Your code here\n",
    "def ex_13(X):\n",
    "    list_hh = list()\n",
    "    list_mm = list()\n",
    "    for i in X:\n",
    "        if np.isnan(i):\n",
    "            list_hh.append(np.nan)\n",
    "            list_mm.append(np.nan)\n",
    "        else:\n",
    "            temp = str(int(i))\n",
    "            list_hh.append(float(('0'*(4-len(temp)) + temp)[:-2]))\n",
    "            list_mm.append(float(('0'*(4-len(temp)) + temp)[-2:]))\n",
    "    return list_hh, list_mm\n",
    "\n",
    "data_linreg[\"DepTime_Hour\"], data_linreg[\"DepTime_Minute\"] = ex_13(data_linreg[\"DepTime\"])\n",
    "data_linreg.drop(\"DepTime\", axis = 1, inplace = True)\n",
    "data_linreg[\"CRSDepTime_Hour\"], data_linreg[\"CRSDepTime_Minute\"] = ex_13(data_linreg[\"CRSDepTime\"])\n",
    "data_linreg.drop(\"CRSDepTime\", axis = 1, inplace = True)\n",
    "data_linreg[\"ArrTime_Hour\"], data_linreg[\"ArrTime_Minute\"] = ex_13(data_linreg[\"ArrTime\"])\n",
    "data_linreg.drop(\"ArrTime\", axis = 1, inplace = True)\n",
    "data_linreg[\"CRSArrTime_Hour\"], data_linreg[\"CRSArrTime_Minute\"] = ex_13(data_linreg[\"CRSArrTime\"])\n",
    "data_linreg.drop(\"CRSArrTime\", axis = 1, inplace = True)\n",
    "data_linreg"
   ]
  },
  {
   "cell_type": "markdown",
   "metadata": {},
   "source": [
    "**14. (0.5 балла)** Некоторые из признаков, отличных от целевой переменной, могут оказывать чересчур значимое влияние на прогноз, поскольку по своему смыслу содержат большую долю информации о значении целевой переменной. Изучите описание датасета и исключите признаки, сильно коррелирующие с ответами. Ваш выбор признаков для исключения из выборки обоснуйте. Кроме того, исключите признаки TailNum и Year."
   ]
  },
  {
   "cell_type": "code",
   "execution_count": 30,
   "metadata": {},
   "outputs": [],
   "source": [
    "# !pip install seaborn"
   ]
  },
  {
   "cell_type": "code",
   "execution_count": 31,
   "metadata": {},
   "outputs": [
    {
     "name": "stderr",
     "output_type": "stream",
     "text": [
      "C:\\Python3.10\\lib\\site-packages\\seaborn\\_oldcore.py:1498: FutureWarning: is_categorical_dtype is deprecated and will be removed in a future version. Use isinstance(dtype, CategoricalDtype) instead\n",
      "  if pd.api.types.is_categorical_dtype(vector):\n",
      "C:\\Python3.10\\lib\\site-packages\\seaborn\\_oldcore.py:1498: FutureWarning: is_categorical_dtype is deprecated and will be removed in a future version. Use isinstance(dtype, CategoricalDtype) instead\n",
      "  if pd.api.types.is_categorical_dtype(vector):\n",
      "C:\\Python3.10\\lib\\site-packages\\seaborn\\_oldcore.py:1765: FutureWarning: unique with argument that is not not a Series, Index, ExtensionArray, or np.ndarray is deprecated and will raise in a future version.\n",
      "  order = pd.unique(vector)\n",
      "C:\\Python3.10\\lib\\site-packages\\seaborn\\_oldcore.py:1498: FutureWarning: is_categorical_dtype is deprecated and will be removed in a future version. Use isinstance(dtype, CategoricalDtype) instead\n",
      "  if pd.api.types.is_categorical_dtype(vector):\n"
     ]
    },
    {
     "data": {
      "image/png": "[encoded data removed]",
      "text/plain": [
       "<Figure size 2000x500 with 1 Axes>"
      ]
     },
     "metadata": {},
     "output_type": "display_data"
    }
   ],
   "source": [
    "# Your code here\n",
    "import seaborn as sns\n",
    "sns.set(style=\"darkgrid\")\n",
    "\n",
    "cor_data = data_linreg.copy().select_dtypes([np.number])\n",
    "features = cor_data.columns\n",
    "cor_data\n",
    "\n",
    "for i in features:\n",
    "    cor_data[i].fillna(cor_data[i].mean(), inplace = True)\n",
    "    \n",
    "cor_data.isna().any()\n",
    "\n",
    "correlations = {\n",
    "    feature: np.corrcoef(cor_data[feature], data_depdelay)[0][1]\n",
    "    for feature in features\n",
    "}\n",
    "\n",
    "sorted_correlations = sorted(correlations.items(), key=lambda x: x[1], reverse=True)\n",
    "features_order = [x[0] for x in sorted_correlations]\n",
    "correlations = [x[1] for x in sorted_correlations]\n",
    "\n",
    "plot = sns.barplot(y=features_order, x=correlations)\n",
    "plot.figure.set_size_inches(20, 5)"
   ]
  },
  {
   "cell_type": "markdown",
   "metadata": {},
   "source": [
    "ВЫВОД: Сильно коррелирует параметр ArrDelay"
   ]
  },
  {
   "cell_type": "code",
   "execution_count": 32,
   "metadata": {},
   "outputs": [],
   "source": [
    "#Удаляем выборку ArrDelay\n",
    "\n",
    "data_linreg.drop(\"ArrDelay\", axis = 1, inplace = True)"
   ]
  },
  {
   "cell_type": "markdown",
   "metadata": {},
   "source": [
    "**15. (1 балл)** Приведем данные к виду, пригодному для обучения линейных моделей. Для этого вещественные признаки надо отмасштабировать, а категориальные — привести к числовому виду. Также надо устранить пропуски в данных."
   ]
  },
  {
   "cell_type": "markdown",
   "metadata": {},
   "source": [
    "В первую очередь поймем, зачем необходимо применять масштабирование. Следующие ячейки с кодом построят гистограммы для 3 вещественных признаков выборки."
   ]
  },
  {
   "cell_type": "code",
   "execution_count": 33,
   "metadata": {
    "scrolled": true
   },
   "outputs": [
    {
     "data": {
      "text/plain": [
       "<Axes: >"
      ]
     },
     "execution_count": 33,
     "metadata": {},
     "output_type": "execute_result"
    },
    {
     "data": {
      "image/png": "[encoded data removed]",
      "text/plain": [
       "<Figure size 640x480 with 1 Axes>"
      ]
     },
     "metadata": {},
     "output_type": "display_data"
    }
   ],
   "source": [
    "data_linreg['DepTime_Hour'].hist(bins=20, color='black')"
   ]
  },
  {
   "cell_type": "code",
   "execution_count": 34,
   "metadata": {},
   "outputs": [
    {
     "data": {
      "text/plain": [
       "<Axes: >"
      ]
     },
     "execution_count": 34,
     "metadata": {},
     "output_type": "execute_result"
    },
    {
     "data": {
      "image/png": "[encoded data removed]",
      "text/plain": [
       "<Figure size 640x480 with 1 Axes>"
      ]
     },
     "metadata": {},
     "output_type": "display_data"
    }
   ],
   "source": [
    "data_linreg['TaxiIn'].hist(bins=20, color='black')"
   ]
  },
  {
   "cell_type": "code",
   "execution_count": 35,
   "metadata": {},
   "outputs": [
    {
     "data": {
      "text/plain": [
       "<Axes: >"
      ]
     },
     "execution_count": 35,
     "metadata": {},
     "output_type": "execute_result"
    },
    {
     "data": {
      "image/png": "[encoded data removed]",
      "text/plain": [
       "<Figure size 640x480 with 1 Axes>"
      ]
     },
     "metadata": {},
     "output_type": "display_data"
    }
   ],
   "source": [
    "data_linreg['FlightNum'].hist(bins=20, color='red')"
   ]
  },
  {
   "cell_type": "markdown",
   "metadata": {},
   "source": [
    "Какую проблему вы наблюдаете на этих графиках? Как масштабирование поможет её исправить?"
   ]
  },
  {
   "cell_type": "markdown",
   "metadata": {},
   "source": [
    "ОТВЕТ: Маштабированние нужно, чтобы избежать больших значений выходных данных. На представленных трёх графиков мы наблюдаем пррблему несогласованности масштабов (параметров), представленных в таблице, т.е. единицы измерения различны, и мы не можем делать сравнительный анализ трёх данных графиков.\n",
    "После маштабирования признаки будут регуляризироваться в равной степени."
   ]
  },
  {
   "cell_type": "markdown",
   "metadata": {},
   "source": [
    "Некоторые из признаков в нашем датасете являются категориальными. Типичным подходом к работе с ними является бинарное, или [one-hot-кодирование](https://en.wikipedia.org/wiki/One-hot).\n",
    "\n",
    "Реализуйте функцию transform_data, которая принимает на вход DataFrame с признаками и выполняет следующие шаги:\n",
    "1. Замена пропущенных значений на нули для вещественных признаков и на строки 'nan' для категориальных.\n",
    "2. Масштабирование вещественных признаков с помощью [StandardScaler](http://scikit-learn.org/stable/modules/generated/sklearn.preprocessing.StandardScaler.html).\n",
    "3. One-hot-кодирование категориальных признаков с помощью [DictVectorizer](http://scikit-learn.org/stable/modules/generated/sklearn.feature_extraction.DictVectorizer.html) или функции [pd.get_dummies](http://pandas.pydata.org/pandas-docs/stable/generated/pandas.get_dummies.html).\n",
    "\n",
    "Метод должен возвращать преобразованный DataFrame, который должна состоять из масштабированных вещественных признаков и закодированных категориальных (исходные признаки должны быть исключены из выборки)."
   ]
  },
  {
   "cell_type": "code",
   "execution_count": 37,
   "metadata": {},
   "outputs": [],
   "source": [
    "#! pip install StandardScaler"
   ]
  },
  {
   "cell_type": "code",
   "execution_count": 65,
   "metadata": {},
   "outputs": [],
   "source": [
    "from sklearn.preprocessing import StandardScaler"
   ]
  },
  {
   "cell_type": "code",
   "execution_count": 66,
   "metadata": {},
   "outputs": [],
   "source": [
    "def transform_data(data):\n",
    "    # Your code here\n",
    "    \n",
    "    numeric_data = list(data.select_dtypes(np.number).columns)\n",
    "    data[numeric_data] = data[numeric_data].fillna(0)\n",
    "    scaler = StandardScaler()\n",
    "    data[numeric_data] = scaler.fit_transform(data[numeric_data])\n",
    "    categorical_data = list(data.select_dtypes(object).columns)\n",
    "    data[categorical_data] = data[categorical_data].fillna('nan')\n",
    "    temp = pd.get_dummies(data[categorical_data])\n",
    "    result_data = pd.concat([data, temp], axis = 1).drop(categorical_data, axis = 1)\n",
    "    return result_data"
   ]
  },
  {
   "cell_type": "markdown",
   "metadata": {},
   "source": [
    "Примените функцию transform_data к данным. Сколько признаков получилось после преобразования?"
   ]
  },
  {
   "cell_type": "code",
   "execution_count": 67,
   "metadata": {},
   "outputs": [
    {
     "name": "stdout",
     "output_type": "stream",
     "text": [
      "633\n"
     ]
    }
   ],
   "source": [
    "# Your code here\n",
    "data = transform_data(data_linreg)\n",
    "print(data.columns.size)"
   ]
  },
  {
   "cell_type": "markdown",
   "metadata": {},
   "source": [
    "ОТВЕТ: После преобразования получилось 633 признака."
   ]
  },
  {
   "cell_type": "markdown",
   "metadata": {},
   "source": [
    "**16. (0.5 балла)** Разбейте выборку и вектор целевой переменной на обучение и контроль в отношении 70/30 (для этого можно использовать, например, функцию [train_test_split](http://scikit-learn.org/stable/modules/generated/sklearn.cross_validation.train_test_split.html)). "
   ]
  },
  {
   "cell_type": "code",
   "execution_count": 68,
   "metadata": {},
   "outputs": [],
   "source": [
    "# Your code here\n",
    "from sklearn.model_selection import train_test_split\n",
    "\n",
    "X_train, X_test, y_train, y_test = train_test_split(data, data_depdelay, test_size = 0.3, random_state=42)"
   ]
  },
  {
   "cell_type": "markdown",
   "metadata": {},
   "source": [
    "### Scikit-learn\n",
    "\n",
    "<img src = \"https://pp.vk.me/c4534/u35727827/93547647/x_d31c4463.jpg\">\n",
    "Теперь, когда мы привели данные к пригодному виду, попробуем решить задачу при помощи метода наименьших квадратов. Напомним, что данный метод заключается в оптимизации функционала $MSE$:\n",
    "\n",
    "$$MSE(X, y) = \\frac{1}{l} \\sum_{i=1}^l (<w, x_i> - y_i)^2 \\to \\min_{w},$$\n",
    "\n",
    "где $\\{ (x_i, y_i ) \\}_{i=1}^l$ — обучающая выборка, состоящая из $l$ пар объект-ответ.\n",
    "\n",
    "Заметим, что решение данной задачи уже реализовано в модуле sklearn в виде класса [LinearRegression](http://scikit-learn.org/stable/modules/generated/sklearn.linear_model.LinearRegression.html#sklearn.linear_model.LinearRegression).\n",
    "\n",
    "**17. (0.5 балла)** Обучите линейную регрессию на 1000 объектах из обучающей выборки и выведите значения $MSE$ и $R^2$ на этой подвыборке и контрольной выборке (итого 4 различных числа). Проинтерпретируйте полученный результат — насколько качественные прогнозы строит полученная модель? Какие проблемы наблюдаются в модели?\n",
    "\n",
    "**Подсказка**: изучите значения полученных коэффициентов $w$, сохраненных в атрибуте coef_ объекта LinearRegression."
   ]
  },
  {
   "cell_type": "code",
   "execution_count": 69,
   "metadata": {},
   "outputs": [],
   "source": [
    "# Your code here\n",
    "from sklearn.linear_model import LinearRegression\n",
    "from sklearn.metrics import mean_squared_error, mean_absolute_error\n",
    "\n",
    "X_train_train, X_train_test, y_train_train, y_train_test = train_test_split(X_train, y_train, \n",
    "                                                                            train_size = 1000, random_state = 42)\n",
    "reg = LinearRegression().fit(X_train_train, y_train_train)"
   ]
  },
  {
   "cell_type": "code",
   "execution_count": 70,
   "metadata": {},
   "outputs": [
    {
     "name": "stdout",
     "output_type": "stream",
     "text": [
      "MSE подвыборки (train): 446.13885132217405\n",
      "R^2 подвыборки (train): 0.6165614973048107\n"
     ]
    }
   ],
   "source": [
    "y_train_train_pred = reg.predict(X_train_train)\n",
    "print(\"MSE подвыборки (train):\", mean_squared_error(y_train_train, y_train_train_pred))\n",
    "print(\"R^2 подвыборки (train):\", reg.score(X_train_train, y_train_train))"
   ]
  },
  {
   "cell_type": "code",
   "execution_count": 72,
   "metadata": {},
   "outputs": [
    {
     "name": "stdout",
     "output_type": "stream",
     "text": [
      "MSE контрольной выборки (test): 3.7234785039828262e+25\n",
      "R^2 контрольной выборки (test): -2.783557521108696e+22\n"
     ]
    }
   ],
   "source": [
    "y_test_pred = reg.predict(X_test)\n",
    "print(\"MSE контрольной выборки (test):\", mean_squared_error(y_test, y_test_pred))\n",
    "print(\"R^2 контрольной выборки (test):\", reg.score(X_test, y_test))"
   ]
  },
  {
   "cell_type": "markdown",
   "metadata": {},
   "source": [
    "ВЫВОД: Получили большие числа для двух контрольных выборок, что говорит о том, что модель очень плохая."
   ]
  },
  {
   "cell_type": "markdown",
   "metadata": {
    "collapsed": true
   },
   "source": [
    "Для решения описанных вами в предыдущем пункте проблем используем L1- или L2-регуляризацию, тем самым получив Lasso и Ridge регрессии соответственно и изменив оптимизационную задачу одним из следующих образов:\n",
    "$$MSE_{L1}(X, y) = \\frac{1}{l} \\sum_{i=1}^l (<w, x_i> - y_i)^2 + \\alpha ||w||_1 \\to \\min_{w},$$\n",
    "$$MSE_{L2}(X, y) = \\frac{1}{l} \\sum_{i=1}^l (<w, x_i> - y_i)^2 + \\alpha ||w||_2^2 \\to \\min_{w},$$\n",
    "\n",
    "где $\\alpha$ — коэффициент регуляризации. Один из способов его подбора заключается в переборе некоторого количества значений и оценке качества на кросс-валидации для каждого из них, после чего выбирается значение, для которого было получено наилучшее качество."
   ]
  },
  {
   "cell_type": "code",
   "execution_count": 73,
   "metadata": {},
   "outputs": [],
   "source": [
    "from sklearn.linear_model import Ridge, Lasso, RidgeCV, LassoCV\n",
    "from sklearn.model_selection import GridSearchCV, cross_val_predict"
   ]
  },
  {
   "cell_type": "markdown",
   "metadata": {},
   "source": [
    "__18. (1 балл) __ Обучение линейной регрессии.\n",
    "\n",
    "\n",
    "\n",
    "Обучите линейную регрессию с $L_1$ (Lasso) и $L_2$ (Ridge) регуляризаторами (используйте параметры по умолчанию). Посмотрите, какое количество коэффициентов близко к 0 (степень близости к 0 определите сами из разумных пределов). Постройте график зависимости числа ненулевых коэффициентов от коэффицента регуляризации (перебирайте значения по логарифмической сетке от $10^{-3}$ до $10^3$). Согласуются ли результаты с вашими ожиданиями?"
   ]
  },
  {
   "cell_type": "code",
   "execution_count": 181,
   "metadata": {},
   "outputs": [
    {
     "name": "stdout",
     "output_type": "stream",
     "text": [
      "0-коэффициенты для модели Lasso: 623\n",
      "0-коэффициенты для модели Ridge: 286\n"
     ]
    }
   ],
   "source": [
    "# Your code here\n",
    "\n",
    "lasso_model = Lasso()\n",
    "lasso_model = lasso_model.fit(X_train_train, y_train_train)\n",
    "ridge_model = Ridge()\n",
    "ridge_model = ridge_model.fit(X_train_train, y_train_train)\n",
    "\n",
    "print(\"0-коэффициенты для модели Lasso:\", np.sum(np.absolute(lasso_model.coef_) < 10 ** (-10)))\n",
    "print(\"0-коэффициенты для модели Ridge:\", np.sum(np.absolute(ridge_model.coef_) < 10 ** (-10)))"
   ]
  },
  {
   "cell_type": "code",
   "execution_count": 182,
   "metadata": {},
   "outputs": [],
   "source": [
    "alphas = 10 ** np.linspace(-3, 3, 20)\n",
    "lasso_zeros_num = list()\n",
    "ridge_zeros_num = list()\n",
    "for alpha in alphas:\n",
    "    lasso_model = Lasso(alpha = alpha, max_iter=10000)\n",
    "    lasso_model.fit(X_train_train, y_train_train)\n",
    "    ridge_model = Ridge(alpha = alpha)\n",
    "    ridge_model.fit(X_train_train, y_train_train)\n",
    "    lasso_zeros_num.append(np.sum(np.absolute(lasso_model.coef_) < 10 ** (-10)))\n",
    "    ridge_zeros_num.append(np.sum(np.absolute(ridge_model.coef_) < 10 ** (-10)))"
   ]
  },
  {
   "cell_type": "code",
   "execution_count": 183,
   "metadata": {},
   "outputs": [
    {
     "data": {
      "image/png": "[encoded data removed]",
      "text/plain": [
       "<Figure size 2000x500 with 2 Axes>"
      ]
     },
     "metadata": {},
     "output_type": "display_data"
    }
   ],
   "source": [
    "fig, axes = plt.subplots(1, 2, figsize = (20, 5))\n",
    "axes[0].plot(alphas, lasso_zeros_num, color='red')\n",
    "axes[0].set_xlabel(\"Альфа\")\n",
    "axes[0].set_ylabel(\"Число с нулевыми коэф.\")\n",
    "axes[0].set_title(\"Лассо\")\n",
    "axes[0].set_xscale('log')\n",
    "axes[1].plot(alphas, ridge_zeros_num, color='black')\n",
    "axes[1].set_xlabel(\"Альфа\")\n",
    "axes[1].set_ylabel(\"Число с нулевыми коэф.\")\n",
    "axes[1].set_title(\"Ridge\")\n",
    "axes[1].set_xscale('log')"
   ]
  },
  {
   "cell_type": "markdown",
   "metadata": {},
   "source": [
    "Посчитайте для Ridge-регрессии следующие метрики: $RMSE$, $MAE$, $R^2$."
   ]
  },
  {
   "cell_type": "code",
   "execution_count": 184,
   "metadata": {},
   "outputs": [
    {
     "name": "stdout",
     "output_type": "stream",
     "text": [
      "RMSE: 40.893645109796985\n",
      "MAE: 17.16997555336523\n",
      "R^2: -0.2501525086183918\n"
     ]
    }
   ],
   "source": [
    "# Your code here\n",
    "def Ridge_metrics(X_train, y_train, X_test, y_test, alpha = 1.0):\n",
    "    ridge_model = Ridge(alpha = alpha)\n",
    "    ridge_model.fit(X_train, y_train)\n",
    "    y_test_pred = ridge_model.predict(X_test)\n",
    "    print(\"RMSE:\", mean_squared_error(y_test, y_test_pred)** 0.5)\n",
    "    print(\"MAE:\", mean_absolute_error(y_test, y_test_pred))\n",
    "    print(\"R^2:\", ridge_model.score(X_test, y_test))\n",
    "    \n",
    "Ridge_metrics(X_train_train, y_train_train, X_test, y_test)"
   ]
  },
  {
   "cell_type": "markdown",
   "metadata": {},
   "source": [
    "Подберите на обучающей выборке для Ridge-регрессии коэффициент регуляризации (перебирайте значения по логарифмической сетке от $10^{-3}$ до $10^3$) для каждой из метрик при помощи кросс-валидации c 5 фолдами на тех же 1000 объектах. Для этого воспользуйтесь GridSearchCV и KFold из sklearn. Постройте графики зависимости фукнции потерь от коэффициента регуляризации. Посчитайте те же метрики снова. Заметно ли изменилось качество?\n",
    "\n",
    "Для выполнения данного задания вам могут понадобиться реализованные в библиотеке объекты [LassoCV](http://scikit-learn.org/stable/modules/generated/sklearn.linear_model.LassoCV.html), [RidgeCV](http://scikit-learn.org/stable/modules/generated/sklearn.linear_model.RidgeCV.html) и [KFold](http://scikit-learn.org/stable/modules/generated/sklearn.cross_validation.KFold.html)."
   ]
  },
  {
   "cell_type": "code",
   "execution_count": 185,
   "metadata": {},
   "outputs": [],
   "source": [
    "from sklearn.model_selection import GridSearchCV\n"
   ]
  },
  {
   "cell_type": "code",
   "execution_count": 186,
   "metadata": {},
   "outputs": [],
   "source": [
    "# Your code here\n",
    "def search_best_alpha(scoring, X_train, y_train):\n",
    "    alphas = 10 ** np.linspace(-3, 3, 50)\n",
    "    searcher = GridSearchCV(Ridge(), [{\"alpha\": alphas}], scoring = scoring, cv = 5)\n",
    "    searcher.fit(X_train, y_train)\n",
    "    best_alpha = searcher.best_params_[\"alpha\"]\n",
    "    print(\"Best alpha for\", scoring, \"is\", best_alpha)\n",
    "    plt.plot(alphas, -searcher.cv_results_[\"mean_test_score\"])\n",
    "    plt.xscale(\"log\")\n",
    "    plt.xlabel(\"alpha\")\n",
    "    plt.ylabel(\"CV score\")\n",
    "    plt.title(scoring)\n",
    "    return best_alpha"
   ]
  },
  {
   "cell_type": "code",
   "execution_count": null,
   "metadata": {},
   "outputs": [],
   "source": [
    "best_alpha = search_best_alpha('neg_root_mean_squared_error', X_train_train, y_train_train)\n",
    "print()\n",
    "Ridge_metrics(X_train_train, y_train_train, X_test, y_test, best_alpha)"
   ]
  },
  {
   "cell_type": "code",
   "execution_count": null,
   "metadata": {},
   "outputs": [],
   "source": [
    "best_alpha = search_best_alpha('neg_mean_absolute_error', X_train_train, y_train_train)\n",
    "print()\n",
    "Ridge_metrics(X_train_train, y_train_train, X_test, y_test, best_alpha)"
   ]
  },
  {
   "cell_type": "code",
   "execution_count": null,
   "metadata": {},
   "outputs": [],
   "source": [
    "best_alpha = search_best_alpha('r2', X_train_train, y_train_train)\n",
    "print()\n",
    "Ridge_metrics(X_train_train, y_train_train, X_test, y_test, best_alpha)"
   ]
  },
  {
   "cell_type": "markdown",
   "metadata": {
    "collapsed": true
   },
   "source": [
    "__19. (0.5 балла)__ Поиск объектов-выбросов\n",
    "\n",
    "\n",
    "Как известно, MSE сильно штрафует за большие ошибки на объектах-выбросах. С помощью cross_val_predict сделайте Out-of-Fold предсказания для обучающей выборки. Посчитайте ошибки и посмотрите на их распределение (plt.hist). Что вы видите?"
   ]
  },
  {
   "cell_type": "code",
   "execution_count": null,
   "metadata": {},
   "outputs": [],
   "source": [
    "model = Ridge()\n",
    "y_pred = cross_val_predict(model, X_test, y_test)\n",
    "error = (y_pred - y_test) ** 2\n",
    "plt.hist(error, bins = 25, color='black')\n",
    "plt.yscale(\"log\")\n",
    "plt.title(\"Гистограмма ошибок\")"
   ]
  }
 ],
 "metadata": {
  "kernelspec": {
   "display_name": "Python 3 (ipykernel)",
   "language": "python",
   "name": "python3"
  },
  "language_info": {
   "codemirror_mode": {
    "name": "ipython",
    "version": 3
   },
   "file_extension": ".py",
   "mimetype": "text/x-python",
   "name": "python",
   "nbconvert_exporter": "python",
   "pygments_lexer": "ipython3",
   "version": "3.10.11"
  }
 },
 "nbformat": 4,
 "nbformat_minor": 1
}
